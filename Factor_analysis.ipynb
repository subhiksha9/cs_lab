{
  "nbformat": 4,
  "nbformat_minor": 0,
  "metadata": {
    "colab": {
      "provenance": [],
      "authorship_tag": "ABX9TyMe4mUyRLrkM44QegPWBv0n",
      "include_colab_link": true
    },
    "kernelspec": {
      "name": "python3",
      "display_name": "Python 3"
    },
    "language_info": {
      "name": "python"
    }
  },
  "cells": [
    {
      "cell_type": "markdown",
      "metadata": {
        "id": "view-in-github",
        "colab_type": "text"
      },
      "source": [
        "<a href=\"https://colab.research.google.com/github/subhiksha9/cs_lab/blob/main/Factor_analysis.ipynb\" target=\"_parent\"><img src=\"https://colab.research.google.com/assets/colab-badge.svg\" alt=\"Open In Colab\"/></a>"
      ]
    },
    {
      "cell_type": "code",
      "source": [
        "import pandas as pd\n",
        "df=pd.read_excel(\"/content/data.xlsx\")\n",
        "df"
      ],
      "metadata": {
        "colab": {
          "base_uri": "https://localhost:8080/",
          "height": 206
        },
        "id": "4IQTttTootHN",
        "outputId": "9dafb6a3-b470-4a36-9e2d-9d19d4830fc5"
      },
      "execution_count": 5,
      "outputs": [
        {
          "output_type": "execute_result",
          "data": {
            "text/plain": [
              "    f  m  bf\n",
              "0   3  6   5\n",
              "1   7  3   3\n",
              "2  10  9   8\n",
              "3   3  9   7\n",
              "4  10  6   5"
            ],
            "text/html": [
              "\n",
              "  <div id=\"df-f78ac52e-fc2f-4898-a91a-660b89063cde\">\n",
              "    <div class=\"colab-df-container\">\n",
              "      <div>\n",
              "<style scoped>\n",
              "    .dataframe tbody tr th:only-of-type {\n",
              "        vertical-align: middle;\n",
              "    }\n",
              "\n",
              "    .dataframe tbody tr th {\n",
              "        vertical-align: top;\n",
              "    }\n",
              "\n",
              "    .dataframe thead th {\n",
              "        text-align: right;\n",
              "    }\n",
              "</style>\n",
              "<table border=\"1\" class=\"dataframe\">\n",
              "  <thead>\n",
              "    <tr style=\"text-align: right;\">\n",
              "      <th></th>\n",
              "      <th>f</th>\n",
              "      <th>m</th>\n",
              "      <th>bf</th>\n",
              "    </tr>\n",
              "  </thead>\n",
              "  <tbody>\n",
              "    <tr>\n",
              "      <th>0</th>\n",
              "      <td>3</td>\n",
              "      <td>6</td>\n",
              "      <td>5</td>\n",
              "    </tr>\n",
              "    <tr>\n",
              "      <th>1</th>\n",
              "      <td>7</td>\n",
              "      <td>3</td>\n",
              "      <td>3</td>\n",
              "    </tr>\n",
              "    <tr>\n",
              "      <th>2</th>\n",
              "      <td>10</td>\n",
              "      <td>9</td>\n",
              "      <td>8</td>\n",
              "    </tr>\n",
              "    <tr>\n",
              "      <th>3</th>\n",
              "      <td>3</td>\n",
              "      <td>9</td>\n",
              "      <td>7</td>\n",
              "    </tr>\n",
              "    <tr>\n",
              "      <th>4</th>\n",
              "      <td>10</td>\n",
              "      <td>6</td>\n",
              "      <td>5</td>\n",
              "    </tr>\n",
              "  </tbody>\n",
              "</table>\n",
              "</div>\n",
              "      <button class=\"colab-df-convert\" onclick=\"convertToInteractive('df-f78ac52e-fc2f-4898-a91a-660b89063cde')\"\n",
              "              title=\"Convert this dataframe to an interactive table.\"\n",
              "              style=\"display:none;\">\n",
              "        \n",
              "  <svg xmlns=\"http://www.w3.org/2000/svg\" height=\"24px\"viewBox=\"0 0 24 24\"\n",
              "       width=\"24px\">\n",
              "    <path d=\"M0 0h24v24H0V0z\" fill=\"none\"/>\n",
              "    <path d=\"M18.56 5.44l.94 2.06.94-2.06 2.06-.94-2.06-.94-.94-2.06-.94 2.06-2.06.94zm-11 1L8.5 8.5l.94-2.06 2.06-.94-2.06-.94L8.5 2.5l-.94 2.06-2.06.94zm10 10l.94 2.06.94-2.06 2.06-.94-2.06-.94-.94-2.06-.94 2.06-2.06.94z\"/><path d=\"M17.41 7.96l-1.37-1.37c-.4-.4-.92-.59-1.43-.59-.52 0-1.04.2-1.43.59L10.3 9.45l-7.72 7.72c-.78.78-.78 2.05 0 2.83L4 21.41c.39.39.9.59 1.41.59.51 0 1.02-.2 1.41-.59l7.78-7.78 2.81-2.81c.8-.78.8-2.07 0-2.86zM5.41 20L4 18.59l7.72-7.72 1.47 1.35L5.41 20z\"/>\n",
              "  </svg>\n",
              "      </button>\n",
              "      \n",
              "  <style>\n",
              "    .colab-df-container {\n",
              "      display:flex;\n",
              "      flex-wrap:wrap;\n",
              "      gap: 12px;\n",
              "    }\n",
              "\n",
              "    .colab-df-convert {\n",
              "      background-color: #E8F0FE;\n",
              "      border: none;\n",
              "      border-radius: 50%;\n",
              "      cursor: pointer;\n",
              "      display: none;\n",
              "      fill: #1967D2;\n",
              "      height: 32px;\n",
              "      padding: 0 0 0 0;\n",
              "      width: 32px;\n",
              "    }\n",
              "\n",
              "    .colab-df-convert:hover {\n",
              "      background-color: #E2EBFA;\n",
              "      box-shadow: 0px 1px 2px rgba(60, 64, 67, 0.3), 0px 1px 3px 1px rgba(60, 64, 67, 0.15);\n",
              "      fill: #174EA6;\n",
              "    }\n",
              "\n",
              "    [theme=dark] .colab-df-convert {\n",
              "      background-color: #3B4455;\n",
              "      fill: #D2E3FC;\n",
              "    }\n",
              "\n",
              "    [theme=dark] .colab-df-convert:hover {\n",
              "      background-color: #434B5C;\n",
              "      box-shadow: 0px 1px 3px 1px rgba(0, 0, 0, 0.15);\n",
              "      filter: drop-shadow(0px 1px 2px rgba(0, 0, 0, 0.3));\n",
              "      fill: #FFFFFF;\n",
              "    }\n",
              "  </style>\n",
              "\n",
              "      <script>\n",
              "        const buttonEl =\n",
              "          document.querySelector('#df-f78ac52e-fc2f-4898-a91a-660b89063cde button.colab-df-convert');\n",
              "        buttonEl.style.display =\n",
              "          google.colab.kernel.accessAllowed ? 'block' : 'none';\n",
              "\n",
              "        async function convertToInteractive(key) {\n",
              "          const element = document.querySelector('#df-f78ac52e-fc2f-4898-a91a-660b89063cde');\n",
              "          const dataTable =\n",
              "            await google.colab.kernel.invokeFunction('convertToInteractive',\n",
              "                                                     [key], {});\n",
              "          if (!dataTable) return;\n",
              "\n",
              "          const docLinkHtml = 'Like what you see? Visit the ' +\n",
              "            '<a target=\"_blank\" href=https://colab.research.google.com/notebooks/data_table.ipynb>data table notebook</a>'\n",
              "            + ' to learn more about interactive tables.';\n",
              "          element.innerHTML = '';\n",
              "          dataTable['output_type'] = 'display_data';\n",
              "          await google.colab.output.renderOutput(dataTable, element);\n",
              "          const docLink = document.createElement('div');\n",
              "          docLink.innerHTML = docLinkHtml;\n",
              "          element.appendChild(docLink);\n",
              "        }\n",
              "      </script>\n",
              "    </div>\n",
              "  </div>\n",
              "  "
            ]
          },
          "metadata": {},
          "execution_count": 5
        }
      ]
    },
    {
      "cell_type": "code",
      "source": [
        "import statistics as st\n",
        "import numpy as np\n",
        "import math\n",
        "mean=[]\n",
        "sd=[]\n",
        "for i in df:\n",
        "  mean.append(st.mean(df[i]))\n",
        "  sd.append(round(st.stdev(df[i]),2))\n",
        "count=0\n",
        "#print(sd)\n",
        "a=np.array([df[\"f\"],df[\"m\"],df[\"bf\"]],dtype=float)\n",
        "rows,cols=a.shape\n",
        "for i in range(rows):\n",
        "  for j in range(cols):\n",
        "    a[i][j]=(a[i][j]-mean[count])/sd[count]\n",
        "  count+=1\n",
        "a=np.transpose(a)\n",
        "#print(a)\n",
        "c=np.dot(np.transpose(a),a)/len(a)\n",
        "print(c)"
      ],
      "metadata": {
        "colab": {
          "base_uri": "https://localhost:8080/"
        },
        "id": "EX_aWBL0qIZT",
        "outputId": "606b7191-6adb-4233-8053-9cee489640d8"
      },
      "execution_count": 6,
      "outputs": [
        {
          "output_type": "stream",
          "name": "stdout",
          "text": [
            "[[ 0.79869482 -0.04086219  0.06428519]\n",
            " [-0.04086219  0.7999873   0.78455409]\n",
            " [ 0.06428519  0.78455409  0.79947403]]\n"
          ]
        }
      ]
    },
    {
      "cell_type": "code",
      "source": [
        "values,vectors=np.linalg.eig(c)\n",
        "vectors=np.transpose(vectors)\n",
        "values=list(values)\n",
        "values_desc=[]\n",
        "values_desc=sorted(values)\n",
        "values_desc=values_desc[::-1]\n",
        "#print(values)\n",
        "#print(vectors)\n",
        "sum=0\n",
        "component=[]\n",
        "tot_sum=0\n",
        "req_range=90\n",
        "final=[]\n",
        "for i in values_desc:\n",
        "  tot_sum+=i\n",
        "compo=[]\n",
        "for i in values_desc:\n",
        "  sum+=i\n",
        "  component=(sum/tot_sum)*100\n",
        "  compo.append([component,i])\n",
        "#print(pd.DataFrame(compo))\n",
        "new_vec=[]\n",
        "for i in vectors:\n",
        "  count_neg=0\n",
        "  for j in i:\n",
        "    if j<0:\n",
        "      count_neg+=1\n",
        "  if(count_neg>1):\n",
        "    i=(-1)*i\n",
        "    new_vec.append(i)\n",
        "  else:\n",
        "    new_vec.append(i)\n",
        "vectors=new_vec\n",
        "iter=1\n",
        "final=[]\n",
        "iter=1\n",
        "final=[]\n",
        "print(vectors)"
      ],
      "metadata": {
        "colab": {
          "base_uri": "https://localhost:8080/"
        },
        "id": "azgyswsKqKRz",
        "outputId": "52038818-41c1-4d2e-be52-bd1a3203a1a6"
      },
      "execution_count": 7,
      "outputs": [
        {
          "output_type": "stream",
          "name": "stdout",
          "text": [
            "[array([ 0.09366385,  0.70318717, -0.7048084 ]), array([ 0.99537924, -0.08117643,  0.05128887]), array([0.02114816, 0.70635557, 0.70754121])]\n"
          ]
        }
      ]
    },
    {
      "cell_type": "code",
      "source": [
        "i=1\n",
        "for j in compo:\n",
        "  if j[0]<=req_range:\n",
        "    i+=1\n",
        "factors=[]\n",
        "iter=1\n",
        "sum=0\n",
        "for j in compo:\n",
        "  if(iter<=i):\n",
        "    ind=values.index(j[1])\n",
        "    vec=vectors[ind]\n",
        "    factor=list(np.dot(math.sqrt(values[ind]),vec))\n",
        "    sum+=values[ind]\n",
        "    factors.append(factor)\n",
        "  iter+=1\n",
        "h2=[]\n",
        "for i in range(len(factors[0])):\n",
        "  new=0\n",
        "  for j in range(len(factors)):\n",
        "    new=new+(factors[j][i])**2\n",
        "  h2.append(new)\n",
        "percentage=[(values[2]/sum)*100,(values[1]/sum)*100]\n",
        "table={\"heading\":[\"finance\",\"marketing\",\"buisness\",\"variance explained\",\"%of variance\"],\"f1\":[factors[0][0],factors[0][1],factors[0][2],values[2],percentage[0]],\"f2\":[factors[1][0],factors[1][1],factors[1][2],values[1],percentage[1]],\"h2\":[h2[0],h2[1],h2[2],sum,sum]}\n",
        "req_table=pd.DataFrame(table)\n",
        "print(req_table)"
      ],
      "metadata": {
        "colab": {
          "base_uri": "https://localhost:8080/"
        },
        "id": "GVimJgJ-qQCW",
        "outputId": "75af7e50-51cc-46ff-fb3f-be57592234f4"
      },
      "execution_count": 8,
      "outputs": [
        {
          "output_type": "stream",
          "name": "stdout",
          "text": [
            "              heading         f1         f2        h2\n",
            "0             finance   0.026622   0.893260  0.798623\n",
            "1           marketing   0.889177  -0.072848  0.795942\n",
            "2            buisness   0.890669   0.046027  0.795410\n",
            "3  variance explained   1.584635   0.805340  2.389975\n",
            "4        %of variance  66.303420  33.696580  2.389975\n"
          ]
        }
      ]
    },
    {
      "cell_type": "code",
      "source": [
        "#transformation matrix\n",
        "f1=[factors[0][0],factors[0][1],factors[0][2]]\n",
        "f2=[factors[1][0],factors[1][1],factors[1][2]]\n",
        "deg=math.radians(2)\n",
        "f1s=[]\n",
        "t=np.array([[math.cos(deg),(-1)*math.sin(deg)],[math.sin(deg),math.cos(deg)]])\n",
        "for i in range(len(f1)):\n",
        "  f1[i]=(f1[i]*math.cos(deg))+(f2[i]*math.sin(deg))\n",
        "  f2[i]=(f2[i]*math.cos(deg))-(f1[i]*math.sin(deg))\n",
        "h2s=[]\n",
        "for i in range(len(f1)):\n",
        "  h2s.append((f1[i]**2)+(f2[i]**2))\n",
        "table={\"variable\":[\"finance\",\"marketing\",\"buisness\",\"variance\",\"% of variance\"],\"f1*\":[f1[0],f1[1],f1[2],values[2],percentage[0]],\"f2*\":[f2[0],f2[1],f2[2],values[1],percentage[1]],\"h2\":[h2s[0],h2s[1],h2s[2],sum,sum]}\n",
        "loadings=pd.DataFrame(table)\n",
        "print(loadings)"
      ],
      "metadata": {
        "colab": {
          "base_uri": "https://localhost:8080/"
        },
        "id": "uNHDWyKIqTeB",
        "outputId": "31789f70-b6bb-40b9-c4df-fa82e112c215"
      },
      "execution_count": 9,
      "outputs": [
        {
          "output_type": "stream",
          "name": "stdout",
          "text": [
            "        variable        f1*        f2*        h2\n",
            "0        finance   0.057780   0.890700  0.796685\n",
            "1      marketing   0.886092  -0.103728  0.795919\n",
            "2       buisness   0.891733   0.014878  0.795409\n",
            "3       variance   1.584635   0.805340  2.389975\n",
            "4  % of variance  66.303420  33.696580  2.389975\n"
          ]
        }
      ]
    },
    {
      "cell_type": "code",
      "source": [
        "#inference\n",
        "for i in range(len(f1)):\n",
        "  if(f1[i]>f2[i]):\n",
        "    print(i+1,\"th variable in first group\")\n",
        "  else:\n",
        "    print(i+1,\"th variable in second group\")"
      ],
      "metadata": {
        "colab": {
          "base_uri": "https://localhost:8080/"
        },
        "id": "ozDJSU0LqWXX",
        "outputId": "6782212f-0fb5-4485-b281-04c2a0b98a14"
      },
      "execution_count": 10,
      "outputs": [
        {
          "output_type": "stream",
          "name": "stdout",
          "text": [
            "1 th variable in second group\n",
            "2 th variable in first group\n",
            "3 th variable in first group\n"
          ]
        }
      ]
    }
  ]
}