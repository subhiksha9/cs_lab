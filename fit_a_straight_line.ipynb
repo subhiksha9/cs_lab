{
  "nbformat": 4,
  "nbformat_minor": 0,
  "metadata": {
    "colab": {
      "provenance": [],
      "collapsed_sections": []
    },
    "kernelspec": {
      "name": "python3",
      "display_name": "Python 3"
    },
    "language_info": {
      "name": "python"
    }
  },
  "cells": [
    {
      "cell_type": "code",
      "execution_count": null,
      "metadata": {
        "id": "qZx_8Rm9BgvU"
      },
      "outputs": [],
      "source": [
        "#importing necessary libraries\n",
        "import numpy as np\n",
        "import matplotlib.pyplot as plt\n",
        "import pandas as pd"
      ]
    },
    {
      "cell_type": "code",
      "source": [
        "#reading input\n",
        "x=[float(x) for x in input().split(\" \")]\n",
        "y=[float(x) for x in input().split(\" \")]\n",
        "x=np.array(x)\n",
        "y=np.array(y)"
      ],
      "metadata": {
        "colab": {
          "base_uri": "https://localhost:8080/"
        },
        "id": "1yexty_tFRkb",
        "outputId": "1a21bede-b378-4f79-ddeb-fc827361f30d"
      },
      "execution_count": null,
      "outputs": [
        {
          "name": "stdout",
          "output_type": "stream",
          "text": [
            "1 2 3 4 6 8\n",
            "2.4 3 3.6 4 5 6\n"
          ]
        }
      ]
    },
    {
      "cell_type": "code",
      "source": [
        "def sum(x):\n",
        "    s=0\n",
        "    for i in x:\n",
        "        s=s+i\n",
        "    return s\n",
        "sumx=sum(x)\n",
        "sumy=sum(y)\n",
        "sumxy=sum(x*y)\n",
        "sumxx=sum(x*x)\n",
        "print(sumx)\n",
        "print(sumy)\n",
        "print(sumxy)\n",
        "print(sumxx)"
      ],
      "metadata": {
        "colab": {
          "base_uri": "https://localhost:8080/"
        },
        "id": "ON6ZVbh2GzB3",
        "outputId": "fb4ebb76-676c-4a67-d607-6a3a9f9e0ab4"
      },
      "execution_count": null,
      "outputs": [
        {
          "output_type": "stream",
          "name": "stdout",
          "text": [
            "24.0\n",
            "24.0\n",
            "113.2\n",
            "130.0\n"
          ]
        }
      ]
    },
    {
      "cell_type": "code",
      "source": [
        "y_intercept=((sumxx*sumy)-(sumx*sumxy))/((len(x)*sumxx)-(sumx**2))\n",
        "print(y_intercept)\n",
        "slope=((len(x)*sumxy)-(sumx*sumy))/((len(x)*sumxx)-(sumx*sumx))\n",
        "print(slope)"
      ],
      "metadata": {
        "colab": {
          "base_uri": "https://localhost:8080/"
        },
        "id": "4y-sl3vjG5DH",
        "outputId": "eabd24c0-2f47-4187-d335-6d6dfeab5072"
      },
      "execution_count": null,
      "outputs": [
        {
          "output_type": "stream",
          "name": "stdout",
          "text": [
            "1.9764705882352933\n",
            "0.5058823529411767\n"
          ]
        }
      ]
    },
    {
      "cell_type": "code",
      "source": [
        "yexp=slope*x+y_intercept\n",
        "print(\"yexp :\",yexp)\n",
        "ycal=y\n",
        "print(\"ycal :\",ycal)"
      ],
      "metadata": {
        "colab": {
          "base_uri": "https://localhost:8080/"
        },
        "id": "kQYePr4TH-yK",
        "outputId": "14cf278c-77a4-427b-b292-f15b3015982d"
      },
      "execution_count": null,
      "outputs": [
        {
          "output_type": "stream",
          "name": "stdout",
          "text": [
            "yexp : [2.48235294 2.98823529 3.49411765 4.         5.01176471 6.02352941]\n",
            "ycal : [2.4 3.  3.6 4.  5.  6. ]\n"
          ]
        }
      ]
    },
    {
      "cell_type": "code",
      "source": [
        "plt.plot(x,ycal)\n",
        "plt.scatter(x,ycal)\n",
        "plt.plot(x,yexp)\n",
        "plt.scatter(x,yexp)\n",
        "plt.show()"
      ],
      "metadata": {
        "colab": {
          "base_uri": "https://localhost:8080/",
          "height": 265
        },
        "id": "tSLHnrlcIAIJ",
        "outputId": "d582fdfd-0710-4bd3-9e15-0124615a8c31"
      },
      "execution_count": null,
      "outputs": [
        {
          "output_type": "display_data",
          "data": {
            "text/plain": [
              "<Figure size 432x288 with 1 Axes>"
            ],
            "image/png": "[encoded data removed]"
          },
          "metadata": {
            "needs_background": "light"
          }
        }
      ]
    }
  ]
}