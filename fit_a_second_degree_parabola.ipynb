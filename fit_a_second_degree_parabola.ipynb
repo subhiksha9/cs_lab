{
  "nbformat": 4,
  "nbformat_minor": 0,
  "metadata": {
    "colab": {
      "provenance": [],
      "authorship_tag": "ABX9TyP/pM0G6F45Didu8R0PqmO+",
      "include_colab_link": true
    },
    "kernelspec": {
      "name": "python3",
      "display_name": "Python 3"
    },
    "language_info": {
      "name": "python"
    }
  },
  "cells": [
    {
      "cell_type": "markdown",
      "metadata": {
        "id": "view-in-github",
        "colab_type": "text"
      },
      "source": [
        "<a href=\"https://colab.research.google.com/github/subhiksha9/cs_lab/blob/main/fit_a_second_degree_parabola.ipynb\" target=\"_parent\"><img src=\"https://colab.research.google.com/assets/colab-badge.svg\" alt=\"Open In Colab\"/></a>"
      ]
    },
    {
      "cell_type": "code",
      "execution_count": 2,
      "metadata": {
        "id": "t4WCpeAAPR8V"
      },
      "outputs": [],
      "source": [
        "#importing libraries\n",
        "import numpy as np\n",
        "import matplotlib.pyplot as plt"
      ]
    },
    {
      "cell_type": "code",
      "source": [
        "x=np.array([float(x) for x in input().split(\" \")])\n",
        "y=np.array([float(x) for x in input().split(\" \")])\n",
        "n=len(x)\n",
        "sumx=np.sum(x)\n",
        "sumy=np.sum(y)\n",
        "sumxy=np.sum(x*y)\n",
        "sumx2=np.sum(x*x)\n",
        "sumx3=np.sum(x*x*x)\n",
        "sumx4=np.sum(x*x*x*x)\n",
        "sumx2y=np.sum(x*x*y)"
      ],
      "metadata": {
        "colab": {
          "base_uri": "https://localhost:8080/"
        },
        "id": "e3CS8Wx2RD24",
        "outputId": "cd4ab8a9-4657-446d-801a-2372d3cd0ab8"
      },
      "execution_count": 3,
      "outputs": [
        {
          "name": "stdout",
          "output_type": "stream",
          "text": [
            "0 1 2 3 4\n",
            "1 1.8 1.3 2.5 6.3\n"
          ]
        }
      ]
    },
    {
      "cell_type": "code",
      "source": [
        "def getMinor(m,i,j):\n",
        "  return [row[:j] + row[j+1:] for row in (m[:i]+m[i+1:])]\n",
        "def getDeternminant(m):\n",
        "  if len(m) == 2:\n",
        "    return m[0][0]*m[1][1]-m[0][1]*m[1][0]\n",
        "  determinant = 0\n",
        "  for c in range(len(m)):\n",
        "    determinant += ((-1)**c)*m[0][c]*getDeternminant(getMinor(m,0,c))\n",
        "  return determinant"
      ],
      "metadata": {
        "id": "gqy8fBpURYsS"
      },
      "execution_count": 5,
      "outputs": []
    },
    {
      "cell_type": "code",
      "source": [
        "#Using cramer's rule (without built-in)\n",
        "p=getDeternminant([[n,sumx,sumx2],[sumx,sumx2,sumx3],[sumx2,sumx3,sumx4]])\n",
        "q=getDeternminant([[sumy,sumxy,sumx2y],[sumx,sumx2,sumx3],[sumx2,sumx3,sumx4]])\n",
        "r=getDeternminant([[n,sumx,sumx2],[sumy,sumxy,sumx2y],[sumx2,sumx3,sumx4]])\n",
        "s=getDeternminant([[n,sumx,sumx2],[sumx,sumx2,sumx3],[sumy,sumxy,sumx2y]])\n",
        "a=round(q/p,3)\n",
        "b=round(r/p,3)\n",
        "c=round(s/p,3)\n",
        "print(\"The equation of parabola is y={}+{}x+{}x2\".format(a,b,c))\n",
        "plt.scatter(x,y)\n",
        "plt.show()"
      ],
      "metadata": {
        "colab": {
          "base_uri": "https://localhost:8080/",
          "height": 282
        },
        "id": "YCeAFZv8Rsr3",
        "outputId": "5decad2c-578a-4467-b537-c73778300105"
      },
      "execution_count": 6,
      "outputs": [
        {
          "output_type": "stream",
          "name": "stdout",
          "text": [
            "The equation of parabola is y=1.42+-1.07x+0.55x2\n"
          ]
        },
        {
          "output_type": "display_data",
          "data": {
            "text/plain": [
              "<Figure size 432x288 with 1 Axes>"
            ],
            "image/png": "[encoded data removed]"
          },
          "metadata": {
            "needs_background": "light"
          }
        }
      ]
    }
  ]
}