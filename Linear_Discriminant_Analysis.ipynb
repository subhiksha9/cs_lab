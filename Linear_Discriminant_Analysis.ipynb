{
  "nbformat": 4,
  "nbformat_minor": 0,
  "metadata": {
    "colab": {
      "provenance": [],
      "authorship_tag": "ABX9TyNJWN3whaBXXD0MvN+Se67h",
      "include_colab_link": true
    },
    "kernelspec": {
      "name": "python3",
      "display_name": "Python 3"
    },
    "language_info": {
      "name": "python"
    }
  },
  "cells": [
    {
      "cell_type": "markdown",
      "metadata": {
        "id": "view-in-github",
        "colab_type": "text"
      },
      "source": [
        "<a href=\"https://colab.research.google.com/github/subhiksha9/cs_lab/blob/main/Linear_Discriminant_Analysis.ipynb\" target=\"_parent\"><img src=\"https://colab.research.google.com/assets/colab-badge.svg\" alt=\"Open In Colab\"/></a>"
      ]
    },
    {
      "cell_type": "code",
      "source": [
        "import numpy as np\n",
        "import pandas as pd"
      ],
      "metadata": {
        "id": "VgcC-ve3gTri"
      },
      "execution_count": 2,
      "outputs": []
    },
    {
      "cell_type": "code",
      "source": [
        "df=pd.read_excel(\"/content/discrimant.xlsx\")\n",
        "df"
      ],
      "metadata": {
        "colab": {
          "base_uri": "https://localhost:8080/",
          "height": 363
        },
        "id": "v-n1u3tahYni",
        "outputId": "61cd5160-a0aa-49c6-a1f5-4ac58db62a9c"
      },
      "execution_count": 3,
      "outputs": [
        {
          "output_type": "execute_result",
          "data": {
            "text/plain": [
              "   x1   SAT  GPA GRADUATE\n",
              "0   1  1300  2.7      yes\n",
              "1   1  1260  3.7      yes\n",
              "2   1  1220  2.9      yes\n",
              "3   1  1180  2.5      yes\n",
              "4   1  1060  3.9      yes\n",
              "5   1  1140  2.1       no\n",
              "6   1  1100  3.5       no\n",
              "7   1  1020  3.3       no\n",
              "8   1   980  2.3       no\n",
              "9   1   940  3.1       no"
            ],
            "text/html": [
              "\n",
              "  <div id=\"df-4841044b-b126-4cb6-a7e9-d154c79d66b6\">\n",
              "    <div class=\"colab-df-container\">\n",
              "      <div>\n",
              "<style scoped>\n",
              "    .dataframe tbody tr th:only-of-type {\n",
              "        vertical-align: middle;\n",
              "    }\n",
              "\n",
              "    .dataframe tbody tr th {\n",
              "        vertical-align: top;\n",
              "    }\n",
              "\n",
              "    .dataframe thead th {\n",
              "        text-align: right;\n",
              "    }\n",
              "</style>\n",
              "<table border=\"1\" class=\"dataframe\">\n",
              "  <thead>\n",
              "    <tr style=\"text-align: right;\">\n",
              "      <th></th>\n",
              "      <th>x1</th>\n",
              "      <th>SAT</th>\n",
              "      <th>GPA</th>\n",
              "      <th>GRADUATE</th>\n",
              "    </tr>\n",
              "  </thead>\n",
              "  <tbody>\n",
              "    <tr>\n",
              "      <th>0</th>\n",
              "      <td>1</td>\n",
              "      <td>1300</td>\n",
              "      <td>2.7</td>\n",
              "      <td>yes</td>\n",
              "    </tr>\n",
              "    <tr>\n",
              "      <th>1</th>\n",
              "      <td>1</td>\n",
              "      <td>1260</td>\n",
              "      <td>3.7</td>\n",
              "      <td>yes</td>\n",
              "    </tr>\n",
              "    <tr>\n",
              "      <th>2</th>\n",
              "      <td>1</td>\n",
              "      <td>1220</td>\n",
              "      <td>2.9</td>\n",
              "      <td>yes</td>\n",
              "    </tr>\n",
              "    <tr>\n",
              "      <th>3</th>\n",
              "      <td>1</td>\n",
              "      <td>1180</td>\n",
              "      <td>2.5</td>\n",
              "      <td>yes</td>\n",
              "    </tr>\n",
              "    <tr>\n",
              "      <th>4</th>\n",
              "      <td>1</td>\n",
              "      <td>1060</td>\n",
              "      <td>3.9</td>\n",
              "      <td>yes</td>\n",
              "    </tr>\n",
              "    <tr>\n",
              "      <th>5</th>\n",
              "      <td>1</td>\n",
              "      <td>1140</td>\n",
              "      <td>2.1</td>\n",
              "      <td>no</td>\n",
              "    </tr>\n",
              "    <tr>\n",
              "      <th>6</th>\n",
              "      <td>1</td>\n",
              "      <td>1100</td>\n",
              "      <td>3.5</td>\n",
              "      <td>no</td>\n",
              "    </tr>\n",
              "    <tr>\n",
              "      <th>7</th>\n",
              "      <td>1</td>\n",
              "      <td>1020</td>\n",
              "      <td>3.3</td>\n",
              "      <td>no</td>\n",
              "    </tr>\n",
              "    <tr>\n",
              "      <th>8</th>\n",
              "      <td>1</td>\n",
              "      <td>980</td>\n",
              "      <td>2.3</td>\n",
              "      <td>no</td>\n",
              "    </tr>\n",
              "    <tr>\n",
              "      <th>9</th>\n",
              "      <td>1</td>\n",
              "      <td>940</td>\n",
              "      <td>3.1</td>\n",
              "      <td>no</td>\n",
              "    </tr>\n",
              "  </tbody>\n",
              "</table>\n",
              "</div>\n",
              "      <button class=\"colab-df-convert\" onclick=\"convertToInteractive('df-4841044b-b126-4cb6-a7e9-d154c79d66b6')\"\n",
              "              title=\"Convert this dataframe to an interactive table.\"\n",
              "              style=\"display:none;\">\n",
              "        \n",
              "  <svg xmlns=\"http://www.w3.org/2000/svg\" height=\"24px\"viewBox=\"0 0 24 24\"\n",
              "       width=\"24px\">\n",
              "    <path d=\"M0 0h24v24H0V0z\" fill=\"none\"/>\n",
              "    <path d=\"M18.56 5.44l.94 2.06.94-2.06 2.06-.94-2.06-.94-.94-2.06-.94 2.06-2.06.94zm-11 1L8.5 8.5l.94-2.06 2.06-.94-2.06-.94L8.5 2.5l-.94 2.06-2.06.94zm10 10l.94 2.06.94-2.06 2.06-.94-2.06-.94-.94-2.06-.94 2.06-2.06.94z\"/><path d=\"M17.41 7.96l-1.37-1.37c-.4-.4-.92-.59-1.43-.59-.52 0-1.04.2-1.43.59L10.3 9.45l-7.72 7.72c-.78.78-.78 2.05 0 2.83L4 21.41c.39.39.9.59 1.41.59.51 0 1.02-.2 1.41-.59l7.78-7.78 2.81-2.81c.8-.78.8-2.07 0-2.86zM5.41 20L4 18.59l7.72-7.72 1.47 1.35L5.41 20z\"/>\n",
              "  </svg>\n",
              "      </button>\n",
              "      \n",
              "  <style>\n",
              "    .colab-df-container {\n",
              "      display:flex;\n",
              "      flex-wrap:wrap;\n",
              "      gap: 12px;\n",
              "    }\n",
              "\n",
              "    .colab-df-convert {\n",
              "      background-color: #E8F0FE;\n",
              "      border: none;\n",
              "      border-radius: 50%;\n",
              "      cursor: pointer;\n",
              "      display: none;\n",
              "      fill: #1967D2;\n",
              "      height: 32px;\n",
              "      padding: 0 0 0 0;\n",
              "      width: 32px;\n",
              "    }\n",
              "\n",
              "    .colab-df-convert:hover {\n",
              "      background-color: #E2EBFA;\n",
              "      box-shadow: 0px 1px 2px rgba(60, 64, 67, 0.3), 0px 1px 3px 1px rgba(60, 64, 67, 0.15);\n",
              "      fill: #174EA6;\n",
              "    }\n",
              "\n",
              "    [theme=dark] .colab-df-convert {\n",
              "      background-color: #3B4455;\n",
              "      fill: #D2E3FC;\n",
              "    }\n",
              "\n",
              "    [theme=dark] .colab-df-convert:hover {\n",
              "      background-color: #434B5C;\n",
              "      box-shadow: 0px 1px 3px 1px rgba(0, 0, 0, 0.15);\n",
              "      filter: drop-shadow(0px 1px 2px rgba(0, 0, 0, 0.3));\n",
              "      fill: #FFFFFF;\n",
              "    }\n",
              "  </style>\n",
              "\n",
              "      <script>\n",
              "        const buttonEl =\n",
              "          document.querySelector('#df-4841044b-b126-4cb6-a7e9-d154c79d66b6 button.colab-df-convert');\n",
              "        buttonEl.style.display =\n",
              "          google.colab.kernel.accessAllowed ? 'block' : 'none';\n",
              "\n",
              "        async function convertToInteractive(key) {\n",
              "          const element = document.querySelector('#df-4841044b-b126-4cb6-a7e9-d154c79d66b6');\n",
              "          const dataTable =\n",
              "            await google.colab.kernel.invokeFunction('convertToInteractive',\n",
              "                                                     [key], {});\n",
              "          if (!dataTable) return;\n",
              "\n",
              "          const docLinkHtml = 'Like what you see? Visit the ' +\n",
              "            '<a target=\"_blank\" href=https://colab.research.google.com/notebooks/data_table.ipynb>data table notebook</a>'\n",
              "            + ' to learn more about interactive tables.';\n",
              "          element.innerHTML = '';\n",
              "          dataTable['output_type'] = 'display_data';\n",
              "          await google.colab.output.renderOutput(dataTable, element);\n",
              "          const docLink = document.createElement('div');\n",
              "          docLink.innerHTML = docLinkHtml;\n",
              "          element.appendChild(docLink);\n",
              "        }\n",
              "      </script>\n",
              "    </div>\n",
              "  </div>\n",
              "  "
            ]
          },
          "metadata": {},
          "execution_count": 3
        }
      ]
    },
    {
      "cell_type": "code",
      "source": [
        "x1=df['x1']\n",
        "x2=df['SAT']\n",
        "x3=df['GPA']\n",
        "y=df['GRADUATE']"
      ],
      "metadata": {
        "id": "jx2rStM4hgQR"
      },
      "execution_count": 4,
      "outputs": []
    },
    {
      "cell_type": "code",
      "source": [
        "df['GRADUATE']=y.replace('yes', 1)"
      ],
      "metadata": {
        "id": "WDwrH9Z3hjOu"
      },
      "execution_count": 5,
      "outputs": []
    },
    {
      "cell_type": "code",
      "source": [
        "df['GRADUATE']=y.replace('no', 0)"
      ],
      "metadata": {
        "id": "IytlkgpFhlN-"
      },
      "execution_count": 6,
      "outputs": []
    },
    {
      "cell_type": "code",
      "source": [
        "y=df['GRADUATE']"
      ],
      "metadata": {
        "id": "r5sm6V0Ihmzy"
      },
      "execution_count": 7,
      "outputs": []
    },
    {
      "cell_type": "code",
      "source": [
        "Ytrans=np.array([y])\n",
        "Xtrans=np.array([x1,x2,x3])"
      ],
      "metadata": {
        "id": "BRVn2vtThpP5"
      },
      "execution_count": 8,
      "outputs": []
    },
    {
      "cell_type": "code",
      "source": [
        "def transpose(m):\n",
        "    res=[[0 for i in range(len(m))]for j in range(len(m[0]))]\n",
        "    for i in range(len(m[0])):\n",
        "        for j in range(len(m)):\n",
        "            res[i][j]=m[j][i]\n",
        "    return res"
      ],
      "metadata": {
        "id": "cnszTJEahtDk"
      },
      "execution_count": 9,
      "outputs": []
    },
    {
      "cell_type": "code",
      "source": [
        "Y=transpose(Ytrans)\n",
        "X=transpose(Xtrans)"
      ],
      "metadata": {
        "id": "QhzAXGA3hu3X"
      },
      "execution_count": 10,
      "outputs": []
    },
    {
      "cell_type": "code",
      "source": [
        "def display(m):\n",
        "    for i in range(len(m)):\n",
        "        for j in range(len(m[0])):\n",
        "            print(m[i][j],end=\" \")\n",
        "        print()"
      ],
      "metadata": {
        "id": "otKi59R5hxfP"
      },
      "execution_count": 11,
      "outputs": []
    },
    {
      "cell_type": "code",
      "source": [
        "def inverse(m):\n",
        "    s=np.linalg.inv(m) \n",
        "    return s"
      ],
      "metadata": {
        "id": "HV-YO2mphzc1"
      },
      "execution_count": 12,
      "outputs": []
    },
    {
      "cell_type": "code",
      "source": [
        "def mul(m,n):\n",
        "    c=[[0 for i in range(len(n[0]))]for j in range(len(m))]\n",
        "    for i in range(len(m)):\n",
        "        for j in range(len(n[0])):\n",
        "            for k in range(len(n)):\n",
        "                c[i][j]=c[i][j]+(m[i][k]*n[k][j])\n",
        "    return c"
      ],
      "metadata": {
        "id": "yUr0fz-0h1kh"
      },
      "execution_count": 13,
      "outputs": []
    },
    {
      "cell_type": "code",
      "source": [
        "xtx=mul(Xtrans,X)\n",
        "xtx_inv=inverse(xtx)\n",
        "xty=mul(Xtrans,Y)\n",
        "betacap=mul(xtx_inv,xty)\n",
        "display(betacap)"
      ],
      "metadata": {
        "colab": {
          "base_uri": "https://localhost:8080/"
        },
        "id": "D_2SMOflh3eA",
        "outputId": "2caad9e6-620a-4226-b3f9-b59ba61745e9"
      },
      "execution_count": 14,
      "outputs": [
        {
          "output_type": "stream",
          "name": "stdout",
          "text": [
            "-3.839196349720371 \n",
            "0.003232631733882836 \n",
            "0.23954960259052793 \n"
          ]
        }
      ]
    },
    {
      "cell_type": "code",
      "source": [
        "b=np.ravel(betacap)\n",
        "print(len(b))"
      ],
      "metadata": {
        "colab": {
          "base_uri": "https://localhost:8080/"
        },
        "id": "SeSJfknFh5Pb",
        "outputId": "757022a6-1195-4f3e-a987-29a2fa4b9538"
      },
      "execution_count": 15,
      "outputs": [
        {
          "output_type": "stream",
          "name": "stdout",
          "text": [
            "3\n"
          ]
        }
      ]
    },
    {
      "cell_type": "code",
      "source": [
        "for i in range(len(b)):\n",
        "    print(\"equation is : y=\",b[i],\"+\",b[i+1],\"SAT +\",b[i+2],\"GPA\")\n",
        "    break"
      ],
      "metadata": {
        "colab": {
          "base_uri": "https://localhost:8080/"
        },
        "id": "_N2YVmpwh7iA",
        "outputId": "0abc865b-3e56-46f9-98d3-eb083ecfa8d2"
      },
      "execution_count": 16,
      "outputs": [
        {
          "output_type": "stream",
          "name": "stdout",
          "text": [
            "equation is : y= -3.839196349720371 + 0.003232631733882836 SAT + 0.23954960259052793 GPA\n"
          ]
        }
      ]
    },
    {
      "cell_type": "code",
      "source": [
        "sat=int(input(\"enter sat value:\"))\n",
        "gpa=float(input(\"enter gpa value:\"))\n",
        "ycal=b[0]+(b[1]*sat)+(b[2]*gpa)\n",
        "print(ycal)"
      ],
      "metadata": {
        "colab": {
          "base_uri": "https://localhost:8080/"
        },
        "id": "KmtFqY0Ih8Rl",
        "outputId": "78949469-9f8c-40e8-e647-cd40081331bd"
      },
      "execution_count": 17,
      "outputs": [
        {
          "output_type": "stream",
          "name": "stdout",
          "text": [
            "enter sat value:1000\n",
            "enter gpa value:2.9\n",
            "0.08812923167499609\n"
          ]
        }
      ]
    },
    {
      "cell_type": "code",
      "source": [
        "if(ycal<=0.5):\n",
        "    print(\"not graduate\")\n",
        "else:\n",
        "    print(\"graduate\")"
      ],
      "metadata": {
        "colab": {
          "base_uri": "https://localhost:8080/"
        },
        "id": "jYqMswESiEhc",
        "outputId": "c1510c6d-2eec-487e-a05c-f68ed3892016"
      },
      "execution_count": 18,
      "outputs": [
        {
          "output_type": "stream",
          "name": "stdout",
          "text": [
            "not graduate\n"
          ]
        }
      ]
    }
  ]
}