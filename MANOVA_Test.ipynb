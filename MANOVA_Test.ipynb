{
  "nbformat": 4,
  "nbformat_minor": 0,
  "metadata": {
    "colab": {
      "provenance": [],
      "authorship_tag": "ABX9TyMBXIx7s6Ymq34HcuFIUFr4",
      "include_colab_link": true
    },
    "kernelspec": {
      "name": "python3",
      "display_name": "Python 3"
    },
    "language_info": {
      "name": "python"
    }
  },
  "cells": [
    {
      "cell_type": "markdown",
      "metadata": {
        "id": "view-in-github",
        "colab_type": "text"
      },
      "source": [
        "<a href=\"https://colab.research.google.com/github/subhiksha9/cs_lab/blob/main/MANOVA_Test.ipynb\" target=\"_parent\"><img src=\"https://colab.research.google.com/assets/colab-badge.svg\" alt=\"Open In Colab\"/></a>"
      ]
    },
    {
      "cell_type": "code",
      "execution_count": 11,
      "metadata": {
        "colab": {
          "base_uri": "https://localhost:8080/"
        },
        "id": "gLvXQPp7Uc0x",
        "outputId": "54bdfecd-6f7f-473e-8ef7-5e086fbef26c"
      },
      "outputs": [
        {
          "name": "stdout",
          "output_type": "stream",
          "text": [
            "enter no of treatements3\n",
            "enter no of subgroups in treatements3\n",
            "enter no of subgroups in treatements2\n",
            "enter no of subgroups in treatements3\n"
          ]
        }
      ],
      "source": [
        "import numpy as np\n",
        "n1=int(input(\"enter no of treatements\"))\n",
        "p=[]\n",
        "for i in range(n1):\n",
        "  p.append(int(input(\"enter no of subgroups in treatements\")))"
      ]
    },
    {
      "cell_type": "code",
      "source": [
        "a=[]\n",
        "for i in range(len(p)):\n",
        "  b=[]\n",
        "  for j in range(p[i]):\n",
        "    q=[int(x) for x in input().split(\" \")]\n",
        "    b.append(q)\n",
        "  a.append(b)\n",
        "print(a)"
      ],
      "metadata": {
        "colab": {
          "base_uri": "https://localhost:8080/"
        },
        "id": "DZRH47o-Wc-5",
        "outputId": "ee112b1c-52cd-483f-a134-5ed165b79335"
      },
      "execution_count": 12,
      "outputs": [
        {
          "output_type": "stream",
          "name": "stdout",
          "text": [
            "9 3\n",
            "6 2\n",
            "9 7\n",
            "0 4\n",
            "2 0\n",
            "3 8\n",
            "1 9\n",
            "2 7\n",
            "[[[9, 3], [6, 2], [9, 7]], [[0, 4], [2, 0]], [[3, 8], [1, 9], [2, 7]]]\n"
          ]
        }
      ]
    },
    {
      "cell_type": "code",
      "source": [
        "yii=[]\n",
        "ybar=[]\n",
        "sum2=0\n",
        "sum3=0\n",
        "k=0\n",
        "for i in range(n1):\n",
        "  sum=0\n",
        "  sum1=0\n",
        "  yi=[]\n",
        "  for j in range(p[i]):\n",
        "    sum=sum+a[i][j][0]\n",
        "    sum1=sum1+a[i][j][1]\n",
        "    sum2=sum2+a[i][j][0]\n",
        "    sum3=sum3+a[i][j][1]\n",
        "  k=k+p[i]\n",
        "  sum=sum/p[i]\n",
        "  sum1=sum1/p[i]\n",
        "  yi.append(sum)\n",
        "  yi.append(sum1)\n",
        "  yii.append(yi)\n",
        "sum2=sum2/k\n",
        "sum3=sum3/k\n",
        "ybar.append(sum2)\n",
        "ybar.append(sum3)\n",
        "print(yii)\n",
        "print(ybar)"
      ],
      "metadata": {
        "colab": {
          "base_uri": "https://localhost:8080/"
        },
        "id": "ohGrwUxbW2BP",
        "outputId": "5bf43798-08b6-4cef-b8ca-e96790206261"
      },
      "execution_count": 13,
      "outputs": [
        {
          "output_type": "stream",
          "name": "stdout",
          "text": [
            "[[8.0, 4.0], [1.0, 2.0], [2.0, 8.0]]\n",
            "[4.0, 5.0]\n"
          ]
        }
      ]
    },
    {
      "cell_type": "code",
      "source": [
        "#y1 and y2 and cross product of y1,y2\n",
        "sse1=sst1=sse2=sst2=sse12=sst12=0\n",
        "\n",
        "for i in range(n1):\n",
        "  for j in range(p[i]):\n",
        "    sse1=sse1+((a[i][j][0]-yii[i][0])**2)\n",
        "    sst1=sst1+((a[i][j][0]-ybar[0])**2)\n",
        "    sse2=sse2+((a[i][j][1]-yii[i][1])**2)\n",
        "    sst2=sst2+((a[i][j][1]-ybar[1])**2)\n",
        "    sse12=sse12+((a[i][j][0]*a[i][j][1])-(yii[i][0]*yii[i][1]))\n",
        "    sst12=sst12+((a[i][j][0]*a[i][j][1])-(ybar[0]*ybar[1]))\n",
        "print('for y1 ')\n",
        "print('sse : ',sse1)\n",
        "print('sst : ',sst1)\n",
        "ssr1=sst1-sse1\n",
        "print('ssr : ',ssr1)\n",
        "print('for y2 ')\n",
        "print('sse : ',sse2)\n",
        "print('sst : ',sst2)\n",
        "ssr2=sst2-sse2\n",
        "print('ssr: ',ssr2)\n",
        "print('cross product values of y1 and y2 ')\n",
        "print('sse : ',sse12)\n",
        "print('sst : ',sst12)\n",
        "ssr12=sst12-sse12\n",
        "print('ssr : ',ssr12)\n",
        "w1=[sse1,sse12,sse12,sse2]\n",
        "t1=[sst1,sst12,sst12,sst2]\n",
        "w=(w1[0]*w1[3])-(w1[1]*w1[2])\n",
        "t=(t1[0]*t1[3])-(t1[1]*t1[2])\n",
        "delta=w/t"
      ],
      "metadata": {
        "colab": {
          "base_uri": "https://localhost:8080/"
        },
        "id": "X5sBJLelXYLs",
        "outputId": "8ae667b7-ada4-4a0c-a885-338215403123"
      },
      "execution_count": 14,
      "outputs": [
        {
          "output_type": "stream",
          "name": "stdout",
          "text": [
            "for y1 \n",
            "sse :  10.0\n",
            "sst :  88.0\n",
            "ssr :  78.0\n",
            "for y2 \n",
            "sse :  24.0\n",
            "sst :  72.0\n",
            "ssr:  48.0\n",
            "cross product values of y1 and y2 \n",
            "sse :  1.0\n",
            "sst :  -11.0\n",
            "ssr :  -12.0\n"
          ]
        }
      ]
    },
    {
      "cell_type": "code",
      "source": [
        "#f-test\n",
        "from math import sqrt\n",
        "f=((k-n1-1)/(n1-1))*((1-sqrt(delta))/sqrt(delta))\n",
        "print('f calculated value is :',f)\n",
        "import scipy.stats as stats\n",
        "p=len(a[0][0])\n",
        "ftab=stats.f.ppf(1-0.05,p*(n1-1),p*(k-n1-1))\n",
        "print('f table value is :',ftab)\n",
        "if(f>ftab):\n",
        "  print(\"Reject Null Hypothesis\")\n",
        "else:\n",
        "  print(\"Accept Null Hypothesis\")"
      ],
      "metadata": {
        "colab": {
          "base_uri": "https://localhost:8080/"
        },
        "id": "2K6_bB3ZYCzj",
        "outputId": "cbc1f002-832a-4632-d300-3d74acaa89fd"
      },
      "execution_count": 15,
      "outputs": [
        {
          "output_type": "stream",
          "name": "stdout",
          "text": [
            "f calculated value is : 8.198859563778374\n",
            "f table value is : 3.837853354555897\n",
            "Reject Null Hypothesis\n"
          ]
        }
      ]
    }
  ]
}