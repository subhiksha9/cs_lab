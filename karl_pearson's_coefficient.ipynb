{
  "nbformat": 4,
  "nbformat_minor": 0,
  "metadata": {
    "colab": {
      "provenance": [],
      "authorship_tag": "ABX9TyOO/f3hb0kRygu0pX6Or3IK",
      "include_colab_link": true
    },
    "kernelspec": {
      "name": "python3",
      "display_name": "Python 3"
    },
    "language_info": {
      "name": "python"
    }
  },
  "cells": [
    {
      "cell_type": "markdown",
      "metadata": {
        "id": "view-in-github",
        "colab_type": "text"
      },
      "source": [
        "<a href=\"https://colab.research.google.com/github/subhiksha9/cs_lab/blob/main/karl_pearson's_coefficient.ipynb\" target=\"_parent\"><img src=\"https://colab.research.google.com/assets/colab-badge.svg\" alt=\"Open In Colab\"/></a>"
      ]
    },
    {
      "cell_type": "code",
      "execution_count": 1,
      "metadata": {
        "colab": {
          "base_uri": "https://localhost:8080/"
        },
        "id": "OVxw5_i3U15O",
        "outputId": "e5e395ad-d5d7-484c-8774-b289e55fb678"
      },
      "outputs": [
        {
          "name": "stdout",
          "output_type": "stream",
          "text": [
            "Enter x values : 3 7 4 2 0 4 1 2\n",
            "Enter y values : 11 18 9 4 7 6 3 8\n"
          ]
        }
      ],
      "source": [
        "import numpy as np\n",
        "import pandas as pd\n",
        "from math import sqrt\n",
        "#reading inputs\n",
        "a=[int(x) for x in input(\"Enter x values : \").split(\" \")]\n",
        "b=[int(x) for x in input(\"Enter y values : \").split(\" \")]\n",
        "x=np.array(a)\n",
        "y=np.array(b)\n",
        "xy=x*y\n",
        "x2=x*x\n",
        "y2=y*y\n",
        "n=len(x)"
      ]
    },
    {
      "cell_type": "code",
      "source": [
        "#Data Frame\n",
        "df=pd.DataFrame()\n",
        "df['x']=x\n",
        "df['y']=y\n",
        "df['xy']=xy\n",
        "df['x2']=x2\n",
        "df['y2']=y2\n",
        "print(df)"
      ],
      "metadata": {
        "colab": {
          "base_uri": "https://localhost:8080/"
        },
        "id": "5il59c_5ce-A",
        "outputId": "cac22c08-fbd9-4fa0-8c16-6450f17ed50a"
      },
      "execution_count": 2,
      "outputs": [
        {
          "output_type": "stream",
          "name": "stdout",
          "text": [
            "   x   y   xy  x2   y2\n",
            "0  3  11   33   9  121\n",
            "1  7  18  126  49  324\n",
            "2  4   9   36  16   81\n",
            "3  2   4    8   4   16\n",
            "4  0   7    0   0   49\n",
            "5  4   6   24  16   36\n",
            "6  1   3    3   1    9\n",
            "7  2   8   16   4   64\n"
          ]
        }
      ]
    },
    {
      "cell_type": "code",
      "source": [
        "#calculating correlation coefficient\n",
        "num=n*sum(xy)- (sum(x)*sum(y))\n",
        "den=sqrt(((n*(sum(x**2)))-sum(x)**2) * ((n*(sum(y**2)))-sum(y)**2))\n",
        "r=num/den\n",
        "r=round(r,5)\n",
        "print(\"correlation coefficient r is : \",r)"
      ],
      "metadata": {
        "colab": {
          "base_uri": "https://localhost:8080/"
        },
        "id": "a2fn8mpfcktJ",
        "outputId": "bcf82e1c-f804-4e24-a8a7-f1546e8f656b"
      },
      "execution_count": 3,
      "outputs": [
        {
          "output_type": "stream",
          "name": "stdout",
          "text": [
            "correlation coefficient r is :  0.78673\n"
          ]
        }
      ]
    }
  ]
}