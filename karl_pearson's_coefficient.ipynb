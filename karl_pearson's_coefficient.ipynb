{
  "nbformat": 4,
  "nbformat_minor": 0,
  "metadata": {
    "colab": {
      "provenance": [],
      "authorship_tag": "ABX9TyOcQL2ag7XG8vKk15/Ad3TZ",
      "include_colab_link": true
    },
    "kernelspec": {
      "name": "python3",
      "display_name": "Python 3"
    },
    "language_info": {
      "name": "python"
    }
  },
  "cells": [
    {
      "cell_type": "markdown",
      "metadata": {
        "id": "view-in-github",
        "colab_type": "text"
      },
      "source": [
        "<a href=\"https://colab.research.google.com/github/subhiksha9/cs_lab/blob/main/karl_pearson's_coefficient.ipynb\" target=\"_parent\"><img src=\"https://colab.research.google.com/assets/colab-badge.svg\" alt=\"Open In Colab\"/></a>"
      ]
    },
    {
      "cell_type": "code",
      "source": [
        "import numpy as np\n",
        "import pandas as pd\n",
        "import matplotlib.pyplot as plt\n",
        "#reading inputs\n",
        "a=[int(x) for x in input(\"Enter x values : \").split(\" \")]\n",
        "b=[int(x) for x in input(\"Enter y values : \").split(\" \")]\n",
        "x=np.array(a)\n",
        "y=np.array(b)\n",
        "xy=x*y\n",
        "x2=x*x\n",
        "y2=y*y\n",
        "n=len(x)"
      ],
      "metadata": {
        "colab": {
          "base_uri": "https://localhost:8080/"
        },
        "id": "CslKSKl7faqg",
        "outputId": "b40a5e46-ab70-4a66-ae3d-2a2a36cee2bf"
      },
      "execution_count": 7,
      "outputs": [
        {
          "name": "stdout",
          "output_type": "stream",
          "text": [
            "Enter x values : 3 7 4 2 0 4 1 2\n",
            "Enter y values : 11 18 9 4 7 6 3 8\n"
          ]
        }
      ]
    },
    {
      "cell_type": "code",
      "source": [
        "#Data Frame\n",
        "df=pd.DataFrame()\n",
        "df['x']=x\n",
        "df['y']=y\n",
        "df['xy']=xy\n",
        "df['x2']=x2\n",
        "df['y2']=y2\n",
        "print(df)"
      ],
      "metadata": {
        "colab": {
          "base_uri": "https://localhost:8080/"
        },
        "id": "k0QZhkXDfphL",
        "outputId": "0d63f4cc-2c47-4904-c09c-656a350ff5b5"
      },
      "execution_count": 8,
      "outputs": [
        {
          "output_type": "stream",
          "name": "stdout",
          "text": [
            "   x   y   xy  x2   y2\n",
            "0  3  11   33   9  121\n",
            "1  7  18  126  49  324\n",
            "2  4   9   36  16   81\n",
            "3  2   4    8   4   16\n",
            "4  0   7    0   0   49\n",
            "5  4   6   24  16   36\n",
            "6  1   3    3   1    9\n",
            "7  2   8   16   4   64\n"
          ]
        }
      ]
    },
    {
      "cell_type": "code",
      "source": [
        "def sum(x):\n",
        "  s=0\n",
        "  for i in x:\n",
        "    s=s+i\n",
        "  return s\n",
        "sumx=sum(x)\n",
        "sumy=sum(y)\n",
        "sumxy=sum(x*y)\n",
        "sumxx=sum(x*x)\n",
        "sumyy=sum(y*y)\n",
        "print(sumx,sumy,sumxy,sumxx,sumyy)"
      ],
      "metadata": {
        "colab": {
          "base_uri": "https://localhost:8080/"
        },
        "id": "qMe_4NGehC62",
        "outputId": "f19b1052-3040-4e2d-f6b6-7185e7665480"
      },
      "execution_count": 10,
      "outputs": [
        {
          "output_type": "stream",
          "name": "stdout",
          "text": [
            "23 66 246 99 700\n"
          ]
        }
      ]
    },
    {
      "cell_type": "code",
      "source": [
        "x_bar=sumx/n\n",
        "y_bar=sumy/n\n",
        "print(x_bar,y_bar)"
      ],
      "metadata": {
        "colab": {
          "base_uri": "https://localhost:8080/"
        },
        "id": "RsslJEfEhH8O",
        "outputId": "3aeb386b-9dd6-4af6-fadb-7d992dbdf563"
      },
      "execution_count": 16,
      "outputs": [
        {
          "output_type": "stream",
          "name": "stdout",
          "text": [
            "2.875 8.25\n"
          ]
        }
      ]
    },
    {
      "cell_type": "code",
      "source": [
        "cov=(sumxy/n)-(x_bar*y_bar)\n",
        "print(cov)"
      ],
      "metadata": {
        "colab": {
          "base_uri": "https://localhost:8080/"
        },
        "id": "8pIwXXwJhLpL",
        "outputId": "6685c127-e2e6-4e57-d2ac-9e82664074c8"
      },
      "execution_count": 15,
      "outputs": [
        {
          "output_type": "stream",
          "name": "stdout",
          "text": [
            "7.03125\n"
          ]
        }
      ]
    },
    {
      "cell_type": "code",
      "source": [
        "import math\n",
        "sdx=math.sqrt((sumxx/n)-(x_bar**2))\n",
        "sdy=math.sqrt((sumyy/n)-(y_bar**2))\n",
        "print(sdx,sdy)"
      ],
      "metadata": {
        "colab": {
          "base_uri": "https://localhost:8080/"
        },
        "id": "ali8veythNLn",
        "outputId": "d8b37cf1-ec61-401b-eb87-9e910893307d"
      },
      "execution_count": 17,
      "outputs": [
        {
          "output_type": "stream",
          "name": "stdout",
          "text": [
            "2.027159342528357 4.408798022137099\n"
          ]
        }
      ]
    },
    {
      "cell_type": "code",
      "source": [
        "r=cov/(sdx*sdy)\n",
        "print(r)"
      ],
      "metadata": {
        "colab": {
          "base_uri": "https://localhost:8080/"
        },
        "id": "0eNfGKGwhTZh",
        "outputId": "a2bf1d2c-2af5-436b-c720-71a0f9d43044"
      },
      "execution_count": 18,
      "outputs": [
        {
          "output_type": "stream",
          "name": "stdout",
          "text": [
            "0.7867277140983885\n"
          ]
        }
      ]
    }
  ]
}