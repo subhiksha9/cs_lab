{
  "nbformat": 4,
  "nbformat_minor": 0,
  "metadata": {
    "colab": {
      "provenance": [],
      "authorship_tag": "ABX9TyPelcdvdUe8iajVNyPcdtAQ",
      "include_colab_link": true
    },
    "kernelspec": {
      "name": "python3",
      "display_name": "Python 3"
    },
    "language_info": {
      "name": "python"
    }
  },
  "cells": [
    {
      "cell_type": "markdown",
      "metadata": {
        "id": "view-in-github",
        "colab_type": "text"
      },
      "source": [
        "<a href=\"https://colab.research.google.com/github/subhiksha9/cs_lab/blob/main/multivariate_regression_model.ipynb\" target=\"_parent\"><img src=\"https://colab.research.google.com/assets/colab-badge.svg\" alt=\"Open In Colab\"/></a>"
      ]
    },
    {
      "cell_type": "code",
      "execution_count": 1,
      "metadata": {
        "id": "hCLrwBJgCziH"
      },
      "outputs": [],
      "source": [
        "#importing libraries\n",
        "import numpy as np\n",
        "import pandas as pd\n",
        "import scipy.stats as s"
      ]
    },
    {
      "cell_type": "code",
      "source": [
        "#inputs\n",
        "df=pd.read_excel(\"/content/data1.xlsx\")\n",
        "print(df)"
      ],
      "metadata": {
        "colab": {
          "base_uri": "https://localhost:8080/"
        },
        "id": "SFGjTspnMiRV",
        "outputId": "8f4340b3-388c-46fc-f3e5-4432151b9bc8"
      },
      "execution_count": 2,
      "outputs": [
        {
          "output_type": "stream",
          "name": "stdout",
          "text": [
            "    y1   y2  x1  x2  x3   x4\n",
            "0   10  100   1   9  62  1.0\n",
            "1   12  110   1   8  58  1.3\n",
            "2   11  105   1   7  64  1.2\n",
            "3    9   94   1  14  60  0.8\n",
            "4    9   95   1  12  63  0.8\n",
            "5   10   99   1  10  57  0.9\n",
            "6   11  104   1   7  55  1.0\n",
            "7   12  108   1   4  56  1.2\n",
            "8   11  105   1   6  59  1.1\n",
            "9   10   98   1   5  61  1.0\n",
            "10  11  103   1   7  57  1.2\n",
            "11  12  110   1   6  60  1.2\n"
          ]
        }
      ]
    },
    {
      "cell_type": "code",
      "source": [
        "y1=df['y1']\n",
        "y2=df['y2']\n",
        "x1=df['x1']\n",
        "x2=df['x2']\n",
        "x3=df['x3']\n",
        "x4=df['x4']"
      ],
      "metadata": {
        "id": "MBNFESbcPs9B"
      },
      "execution_count": 3,
      "outputs": []
    },
    {
      "cell_type": "code",
      "source": [
        "ytrans=np.array([y1,y2])\n",
        "xtrans=np.array([x1,x2,x3,x4])"
      ],
      "metadata": {
        "id": "R0dTh6ISPvaU"
      },
      "execution_count": 4,
      "outputs": []
    },
    {
      "cell_type": "code",
      "source": [
        "def transpose(m):\n",
        "    res=[[0 for i in range(len(m))]for j in range(len(m[0]))]\n",
        "    for i in range(len(m[0])):\n",
        "        for j in range(len(m)):\n",
        "            res[i][j]=m[j][i]\n",
        "    return res"
      ],
      "metadata": {
        "id": "aTJfQd2lPx5B"
      },
      "execution_count": 5,
      "outputs": []
    },
    {
      "cell_type": "code",
      "source": [
        "y=transpose(ytrans)\n",
        "x=transpose(xtrans)"
      ],
      "metadata": {
        "id": "U-_-Dw48PzwI"
      },
      "execution_count": 6,
      "outputs": []
    },
    {
      "cell_type": "code",
      "source": [
        "def display(m):\n",
        "    for i in range(len(m)):\n",
        "        for j in range(len(m[0])):\n",
        "            print(m[i][j],end=\" \")\n",
        "        print()"
      ],
      "metadata": {
        "id": "xm9Hf9WhQC61"
      },
      "execution_count": 7,
      "outputs": []
    },
    {
      "cell_type": "code",
      "source": [
        "def inverse(m):\n",
        "    s=np.linalg.inv(m) \n",
        "    return s"
      ],
      "metadata": {
        "id": "EFf1jllkQiEP"
      },
      "execution_count": 8,
      "outputs": []
    },
    {
      "cell_type": "code",
      "source": [
        "def mul(m,n):\n",
        "    c=[[0 for i in range(len(n[0]))]for j in range(len(m))]\n",
        "    for i in range(len(m)):\n",
        "        for j in range(len(n[0])):\n",
        "            for k in range(len(n)):\n",
        "                c[i][j]=c[i][j]+(m[i][k]*n[k][j])\n",
        "    return c"
      ],
      "metadata": {
        "id": "IcW2akZDQkfo"
      },
      "execution_count": 9,
      "outputs": []
    },
    {
      "cell_type": "code",
      "source": [
        "xtx=mul(xtrans,x)\n",
        "xtx_inv=inverse(xtx)\n",
        "xty=mul(xtrans,y)\n",
        "betacap=mul(xtx_inv,xty)\n",
        "#display(betacap)\n",
        "display(xtx_inv)"
      ],
      "metadata": {
        "colab": {
          "base_uri": "https://localhost:8080/"
        },
        "id": "HDuI2c8NQmdJ",
        "outputId": "b4a3ea91-1dc1-44eb-c46a-b5e109e9dd5e"
      },
      "execution_count": 10,
      "outputs": [
        {
          "output_type": "stream",
          "name": "stdout",
          "text": [
            "54.812240471003285 -0.305443018966527 -0.7050233376723185 -9.901825387994391 \n",
            "-0.30544301896655096 0.02439504505310527 -0.0034304316399549084 0.2984452185198036 \n",
            "-0.7050233376723077 -0.003430431639955255 0.012315008391292489 0.0014082742726922455 \n",
            "-9.9018253879948 0.29844521851980044 0.00140827427269957 7.044639182235786 \n"
          ]
        }
      ]
    },
    {
      "cell_type": "code",
      "source": [
        "b=[]\n",
        "i=0\n",
        "while(i<4):\n",
        "    b.append(betacap[i][0])\n",
        "    i=i+1\n",
        "print(b)"
      ],
      "metadata": {
        "colab": {
          "base_uri": "https://localhost:8080/"
        },
        "id": "kxm_mb3eQpEn",
        "outputId": "70c96ed9-2c34-4bd0-a998-008ba84b2f0d"
      },
      "execution_count": 11,
      "outputs": [
        {
          "output_type": "stream",
          "name": "stdout",
          "text": [
            "[10.896995240654405, -0.044940288392794514, -0.08770358705352205, 5.03545972374468]\n"
          ]
        }
      ]
    },
    {
      "cell_type": "code",
      "source": [
        "a=[]\n",
        "i=0\n",
        "while(i<4):\n",
        "    a.append(betacap[i][1])\n",
        "    i=i+1\n",
        "print(a)"
      ],
      "metadata": {
        "colab": {
          "base_uri": "https://localhost:8080/"
        },
        "id": "JYSCc5dCQsZM",
        "outputId": "9b24e0f8-d3a9-4d26-de70-700e0dde5c5d"
      },
      "execution_count": 12,
      "outputs": [
        {
          "output_type": "stream",
          "name": "stdout",
          "text": [
            "[91.09719893467627, -0.06400723277221232, -0.2943736719621599, 27.83530349088869]\n"
          ]
        }
      ]
    },
    {
      "cell_type": "code",
      "source": [
        "print(\"equation is:\",\"y1=\",b[0],\"+\",b[1],\"x1 +\",b[2],\"x2 +\",b[3],\"x3\")\n",
        "print(\"equation is:\",\"y2=\",a[0],\"+\",a[1],\"x1 +\",a[2],\"x2 +\",a[3],\"x3\")"
      ],
      "metadata": {
        "colab": {
          "base_uri": "https://localhost:8080/"
        },
        "id": "aX3X5hqIQuVu",
        "outputId": "f448a6d8-3b2d-4296-e857-e7609ed7e3a4"
      },
      "execution_count": 13,
      "outputs": [
        {
          "output_type": "stream",
          "name": "stdout",
          "text": [
            "equation is: y1= 10.896995240654405 + -0.044940288392794514 x1 + -0.08770358705352205 x2 + 5.03545972374468 x3\n",
            "equation is: y2= 91.09719893467627 + -0.06400723277221232 x1 + -0.2943736719621599 x2 + 27.83530349088869 x3\n"
          ]
        }
      ]
    },
    {
      "cell_type": "code",
      "source": [
        "y1exp=y1\n",
        "y1cal=betacap[0][0]+(betacap[1][0]*x2)+(betacap[2][0]*x3)+(betacap[3][0]*x4)\n",
        "print(y1cal)"
      ],
      "metadata": {
        "colab": {
          "base_uri": "https://localhost:8080/"
        },
        "id": "2ZER60uFQwY9",
        "outputId": "2fe1fdfa-5555-4e4d-c119-4ab8e35488f3"
      },
      "execution_count": 14,
      "outputs": [
        {
          "output_type": "stream",
          "name": "stdout",
          "text": [
            "0     10.090370\n",
            "1     11.996763\n",
            "2     11.011935\n",
            "3      9.033984\n",
            "4      8.860754\n",
            "5      9.980402\n",
            "6     10.794176\n",
            "7     11.848385\n",
            "8     10.991848\n",
            "9     10.357835\n",
            "10    11.625860\n",
            "11    11.407690\n",
            "dtype: float64\n"
          ]
        }
      ]
    },
    {
      "cell_type": "code",
      "source": [
        "y2exp=y2\n",
        "y2cal=betacap[0][1]+(betacap[1][1]*x2)+(betacap[2][1]*x3)+(betacap[3][1]*x4)\n",
        "print(y2cal)"
      ],
      "metadata": {
        "colab": {
          "base_uri": "https://localhost:8080/"
        },
        "id": "bVl3snb2Qzxz",
        "outputId": "1aca8415-88c0-48db-d5c3-122fdf1ddef3"
      },
      "execution_count": 15,
      "outputs": [
        {
          "output_type": "stream",
          "name": "stdout",
          "text": [
            "0     100.105270\n",
            "1     109.697363\n",
            "2     105.211597\n",
            "3      94.806920\n",
            "4      94.051814\n",
            "5      98.729600\n",
            "6     102.293900\n",
            "7     107.758609\n",
            "8     103.963943\n",
            "9     100.655672\n",
            "10    107.272213\n",
            "11    106.453099\n",
            "dtype: float64\n"
          ]
        }
      ]
    },
    {
      "cell_type": "code",
      "source": [
        "y1err=y1-y1cal\n",
        "y2err=y2-y2cal\n",
        "print(y1err,y2err)"
      ],
      "metadata": {
        "colab": {
          "base_uri": "https://localhost:8080/"
        },
        "id": "kmQwG_FjQ0iw",
        "outputId": "c0ea0238-5274-4521-a79a-92d62a759e9c"
      },
      "execution_count": 16,
      "outputs": [
        {
          "output_type": "stream",
          "name": "stdout",
          "text": [
            "0    -0.090370\n",
            "1     0.003237\n",
            "2    -0.011935\n",
            "3    -0.033984\n",
            "4     0.139246\n",
            "5     0.019598\n",
            "6     0.205824\n",
            "7     0.151615\n",
            "8     0.008152\n",
            "9    -0.357835\n",
            "10   -0.625860\n",
            "11    0.592310\n",
            "dtype: float64 0    -0.105270\n",
            "1     0.302637\n",
            "2    -0.211597\n",
            "3    -0.806920\n",
            "4     0.948186\n",
            "5     0.270400\n",
            "6     1.706100\n",
            "7     0.241391\n",
            "8     1.036057\n",
            "9    -2.655672\n",
            "10   -4.272213\n",
            "11    3.546901\n",
            "dtype: float64\n"
          ]
        }
      ]
    },
    {
      "cell_type": "code",
      "source": [
        "def sum(x):\n",
        "    s=0\n",
        "    for i in x:\n",
        "        s=s+i\n",
        "    return s"
      ],
      "metadata": {
        "id": "MXhH2BeRQ4Be"
      },
      "execution_count": 17,
      "outputs": []
    },
    {
      "cell_type": "code",
      "source": [
        "error1sq=y1err*y1err\n",
        "sum1_error=sum(error1sq)\n",
        "print(\"sse_y1:\",sum1_error)\n",
        "error2sq=y2err*y2err\n",
        "sum2_error=sum(error2sq)\n",
        "print(\"sse_y2:\",sum2_error)"
      ],
      "metadata": {
        "colab": {
          "base_uri": "https://localhost:8080/"
        },
        "id": "yRSpfeCHRDag",
        "outputId": "e5fc7092-5429-48b7-bfc0-26ef7f22a9c7"
      },
      "execution_count": 18,
      "outputs": [
        {
          "output_type": "stream",
          "name": "stdout",
          "text": [
            "sse_y1: 0.9652436353394366\n",
            "sse_y2: 43.69810489853805\n"
          ]
        }
      ]
    },
    {
      "cell_type": "code",
      "source": [
        "y1sum=sum(y1)\n",
        "y1mean=y1sum/len(y1)\n",
        "print(y1mean)\n",
        "y2sum=sum(y2)\n",
        "y2mean=y2sum/len(y2)\n",
        "print(y2mean)"
      ],
      "metadata": {
        "colab": {
          "base_uri": "https://localhost:8080/"
        },
        "id": "-m3B5OiIRH6Q",
        "outputId": "ee2d41b4-cfc7-4117-d687-c637a610085a"
      },
      "execution_count": 19,
      "outputs": [
        {
          "output_type": "stream",
          "name": "stdout",
          "text": [
            "10.666666666666666\n",
            "102.58333333333333\n"
          ]
        }
      ]
    },
    {
      "cell_type": "code",
      "source": [
        "y1diff=y1-y1mean\n",
        "y1dif=y1diff**2\n",
        "sst1=sum(y1dif)\n",
        "print(\"sst_y1:\",sst1)\n",
        "y2diff=y2-y2mean\n",
        "y2dif=y2diff**2\n",
        "sst2=sum(y2dif)\n",
        "print(\"sst_y2:\",sst2)"
      ],
      "metadata": {
        "colab": {
          "base_uri": "https://localhost:8080/"
        },
        "id": "hyEE6E5kRJvu",
        "outputId": "70ba52e8-dc5f-4f73-e645-cb363b70c58c"
      },
      "execution_count": 20,
      "outputs": [
        {
          "output_type": "stream",
          "name": "stdout",
          "text": [
            "sst_y1: 12.666666666666664\n",
            "sst_y2: 324.9166666666667\n"
          ]
        }
      ]
    },
    {
      "cell_type": "code",
      "source": [
        "ssr1=sst1-sum1_error\n",
        "print(\"ssr_y1:\",ssr1)\n",
        "ssr2=sst2-sum2_error\n",
        "print(\"ssr_y2:\",ssr2)"
      ],
      "metadata": {
        "colab": {
          "base_uri": "https://localhost:8080/"
        },
        "id": "E2-OIxKLReiK",
        "outputId": "8c00f94e-a51b-4c72-d2dd-ccf93b6c9dc4"
      },
      "execution_count": 21,
      "outputs": [
        {
          "output_type": "stream",
          "name": "stdout",
          "text": [
            "ssr_y1: 11.701423031327227\n",
            "ssr_y2: 281.21856176812867\n"
          ]
        }
      ]
    },
    {
      "cell_type": "code",
      "source": [
        "coff_of_det_y1=ssr1/sst1\n",
        "print(coff_of_det_y1)\n",
        "coff_of_det_y2=ssr2/sst2\n",
        "print(coff_of_det_y2)"
      ],
      "metadata": {
        "colab": {
          "base_uri": "https://localhost:8080/"
        },
        "id": "Pq15CM-4RgeD",
        "outputId": "f689763f-397b-4d4c-965d-af48cddf6f09"
      },
      "execution_count": 22,
      "outputs": [
        {
          "output_type": "stream",
          "name": "stdout",
          "text": [
            "0.9237965551047813\n",
            "0.8655098079552561\n"
          ]
        }
      ]
    },
    {
      "cell_type": "code",
      "source": [
        "def r(x):\n",
        "    if(x>=0.90):\n",
        "        print(\"good fit\")\n",
        "    else:\n",
        "        print(\"bad fit\")\n",
        "r(coff_of_det_y1)\n",
        "r(coff_of_det_y2)"
      ],
      "metadata": {
        "colab": {
          "base_uri": "https://localhost:8080/"
        },
        "id": "_WFaXrGNSOAZ",
        "outputId": "9783f5e0-fd43-4f5b-844e-ca87ca33403c"
      },
      "execution_count": 23,
      "outputs": [
        {
          "output_type": "stream",
          "name": "stdout",
          "text": [
            "good fit\n",
            "bad fit\n"
          ]
        }
      ]
    },
    {
      "cell_type": "markdown",
      "source": [
        "Anova"
      ],
      "metadata": {
        "id": "5gC3K_ouSw79"
      }
    },
    {
      "cell_type": "code",
      "source": [
        "df_regression=len(betacap)-1\n",
        "df_error=len(df)-len(betacap)\n",
        "mean_ssr1=ssr1/df_regression\n",
        "mean_sse1=sum1_error/df_error\n",
        "Fcal1=mean_ssr1/mean_sse1\n",
        "print(\"Fcal_y1:\",Fcal1)\n",
        "mean_ssr2=ssr2/df_regression\n",
        "mean_sse2=sum2_error/df_error\n",
        "Fcal2=mean_ssr2/mean_sse2\n",
        "print(\"Fcal_y2:\",Fcal2)"
      ],
      "metadata": {
        "colab": {
          "base_uri": "https://localhost:8080/"
        },
        "id": "MGEZSWfoSqLD",
        "outputId": "f647b098-4ee8-4b5b-f051-d0e0b7d3d492"
      },
      "execution_count": 24,
      "outputs": [
        {
          "output_type": "stream",
          "name": "stdout",
          "text": [
            "Fcal_y1: 32.32737684847085\n",
            "Fcal_y2: 17.161297187972533\n"
          ]
        }
      ]
    },
    {
      "cell_type": "code",
      "source": [
        "import scipy.stats as s\n",
        "Ftab=s.f.ppf(.95,df_regression,df_error)\n",
        "print(\"tablevalue:\",Ftab)"
      ],
      "metadata": {
        "colab": {
          "base_uri": "https://localhost:8080/"
        },
        "id": "h0hGWXPKS168",
        "outputId": "50c86388-c357-418e-d379-d327d8ef39aa"
      },
      "execution_count": 25,
      "outputs": [
        {
          "output_type": "stream",
          "name": "stdout",
          "text": [
            "tablevalue: 4.06618055135116\n"
          ]
        }
      ]
    },
    {
      "cell_type": "code",
      "source": [
        "def anova(x):\n",
        "    if(x>=Ftab):\n",
        "        print(\"reject null and accept model\")\n",
        "    else:\n",
        "        print(\"accept null and reject model\")"
      ],
      "metadata": {
        "id": "38QY3r2_S6X9"
      },
      "execution_count": 26,
      "outputs": []
    },
    {
      "cell_type": "code",
      "source": [
        "anova(Fcal1)\n",
        "anova(Fcal2)"
      ],
      "metadata": {
        "colab": {
          "base_uri": "https://localhost:8080/"
        },
        "id": "ubv_SfnsS7PH",
        "outputId": "b90b40e7-a053-4227-cacd-e5911650efce"
      },
      "execution_count": 27,
      "outputs": [
        {
          "output_type": "stream",
          "name": "stdout",
          "text": [
            "reject null and accept model\n",
            "reject null and accept model\n"
          ]
        }
      ]
    },
    {
      "cell_type": "markdown",
      "source": [
        "test for parameters"
      ],
      "metadata": {
        "id": "uaIGbE7NS9uc"
      }
    },
    {
      "cell_type": "code",
      "source": [
        "c=[]\n",
        "for i in range(len(xtx_inv)):\n",
        "    for j in range(len(xtx_inv[0])):\n",
        "        if(i==j):\n",
        "            c.append(xtx_inv[i][j])\n",
        "print(c)"
      ],
      "metadata": {
        "colab": {
          "base_uri": "https://localhost:8080/"
        },
        "id": "ZHl5W8GkS_5_",
        "outputId": "2db8c860-fd12-4605-bee8-6054b589a315"
      },
      "execution_count": 28,
      "outputs": [
        {
          "output_type": "stream",
          "name": "stdout",
          "text": [
            "[54.812240471003285, 0.02439504505310527, 0.012315008391292489, 7.044639182235786]\n"
          ]
        }
      ]
    },
    {
      "cell_type": "code",
      "source": [
        "def t(x,y):\n",
        "    se=[]\n",
        "    t=[]\n",
        "    for i in c:\n",
        "        p=(y*i)**0.5\n",
        "        se.append(p)\n",
        "    for i in range(len(se)):\n",
        "        s=x[i]/se[i]\n",
        "        t.append(abs(s))\n",
        "    return t"
      ],
      "metadata": {
        "id": "52jd2aTPT2gx"
      },
      "execution_count": 29,
      "outputs": []
    },
    {
      "cell_type": "code",
      "source": [
        "y1_t=t(b,mean_sse1)\n",
        "y2_t=t(a,mean_sse2)"
      ],
      "metadata": {
        "id": "5R8-aXSbT6B4"
      },
      "execution_count": 31,
      "outputs": []
    },
    {
      "cell_type": "code",
      "source": [
        "import scipy.stats as s\n",
        "ttab=s.t.ppf(0.05/2,df_error)\n",
        "t_tab=abs(ttab)\n",
        "print(t_tab)"
      ],
      "metadata": {
        "colab": {
          "base_uri": "https://localhost:8080/"
        },
        "id": "XfkM4c3RT7nN",
        "outputId": "e55c6b96-2308-4d2c-df7c-331287ee6fcd"
      },
      "execution_count": 32,
      "outputs": [
        {
          "output_type": "stream",
          "name": "stdout",
          "text": [
            "2.306004135033371\n"
          ]
        }
      ]
    },
    {
      "cell_type": "code",
      "source": [
        "def ttest(x):\n",
        "    for i in x:\n",
        "        if(i>=t_tab):\n",
        "            print(\"reject null and variable is contributing to model\")\n",
        "        else:\n",
        "            print(\"accept null and variable is not contributing to model\")\n",
        "ttest(y1_t)"
      ],
      "metadata": {
        "colab": {
          "base_uri": "https://localhost:8080/"
        },
        "id": "9R6bXq6WUEBZ",
        "outputId": "2639a263-ff81-4e78-a250-1caf1c2c3d6e"
      },
      "execution_count": 33,
      "outputs": [
        {
          "output_type": "stream",
          "name": "stdout",
          "text": [
            "reject null and variable is contributing to model\n",
            "accept null and variable is not contributing to model\n",
            "accept null and variable is not contributing to model\n",
            "reject null and variable is contributing to model\n"
          ]
        }
      ]
    },
    {
      "cell_type": "code",
      "source": [
        "ttest(y2_t)"
      ],
      "metadata": {
        "colab": {
          "base_uri": "https://localhost:8080/"
        },
        "id": "DageMHERUGMD",
        "outputId": "48b970fc-fa2b-488d-a060-bebb7d939b62"
      },
      "execution_count": 34,
      "outputs": [
        {
          "output_type": "stream",
          "name": "stdout",
          "text": [
            "reject null and variable is contributing to model\n",
            "accept null and variable is not contributing to model\n",
            "accept null and variable is not contributing to model\n",
            "reject null and variable is contributing to model\n"
          ]
        }
      ]
    }
  ]
}