{
  "nbformat": 4,
  "nbformat_minor": 0,
  "metadata": {
    "colab": {
      "provenance": [],
      "authorship_tag": "ABX9TyM5UzPH0Ni2K7CMGWAyCLhq",
      "include_colab_link": true
    },
    "kernelspec": {
      "name": "python3",
      "display_name": "Python 3"
    },
    "language_info": {
      "name": "python"
    }
  },
  "cells": [
    {
      "cell_type": "markdown",
      "metadata": {
        "id": "view-in-github",
        "colab_type": "text"
      },
      "source": [
        "<a href=\"https://colab.research.google.com/github/subhiksha9/cs_lab/blob/main/multiple_regression_model.ipynb\" target=\"_parent\"><img src=\"https://colab.research.google.com/assets/colab-badge.svg\" alt=\"Open In Colab\"/></a>"
      ]
    },
    {
      "cell_type": "code",
      "source": [
        "#transpose\n",
        "def transpose(arr):\n",
        "  t=[]\n",
        "  for i in range(len(arr[0])):\n",
        "    T=[]\n",
        "    for j in range(len(arr)):\n",
        "      T.append(arr[j][i])\n",
        "    t.append(T)\n",
        "  return t"
      ],
      "metadata": {
        "id": "b3GsR5YdOIP9"
      },
      "execution_count": 1,
      "outputs": []
    },
    {
      "cell_type": "code",
      "source": [
        "#multipliction\n",
        "def mul(a,b):\n",
        "  c=[]\n",
        "  n=len(a)\n",
        "  m=len(a[0])\n",
        "  q=len(b[0])\n",
        "  for i in range(n):\n",
        "    C=[]\n",
        "    for j in range(q):\n",
        "      multi=0\n",
        "      for k in range(m):\n",
        "        multi=multi+a[i][k]*b[k][j]\n",
        "      C.append(round(multi,4))\n",
        "    c.append(C)\n",
        "  return c"
      ],
      "metadata": {
        "id": "TgJpJtYNOIHC"
      },
      "execution_count": 2,
      "outputs": []
    },
    {
      "cell_type": "code",
      "source": [
        "#inverse\n",
        "def inverse(a):\n",
        "  n=len(a)\n",
        "  m=len(a[0])\n",
        "  cofactor=[]\n",
        "  det=0\n",
        "  if n==2 and m==2:\n",
        "    cofactor.append([a[1][1],-1*a[0][1]])\n",
        "    cofactor.append(-1*[a[1][0],a[0][0]])\n",
        "    det=cofactor[0][0]*cofactor[1][1]-cofactor[0][1]*cofactor[1][0]\n",
        "  else:\n",
        "    for i in range(n):\n",
        "      co=[]\n",
        "      for j in range(m):\n",
        "        c=[]\n",
        "        for k in range(n):\n",
        "          for o in range(m):\n",
        "            if i!=k and j!=o:\n",
        "              c.append(a[k][o])\n",
        "        if (i+j)%2!=0:\n",
        "          q=-1*(c[0]*c[3]-c[1]*c[2])\n",
        "        else:\n",
        "          q=(c[0]*c[3]-c[1]*c[2])\n",
        "        co.append(q)\n",
        "        if i==0:\n",
        "          det=det+a[i][j]*q\n",
        "      cofactor.append(co)\n",
        "    inv=transpose(cofactor)\n",
        "  ine=inv/det\n",
        "  return ine"
      ],
      "metadata": {
        "id": "GUTKdEksOH9h"
      },
      "execution_count": 3,
      "outputs": []
    },
    {
      "cell_type": "code",
      "execution_count": 4,
      "metadata": {
        "id": "ym5POVUXOEbg"
      },
      "outputs": [],
      "source": [
        "#importing libraries\n",
        "import numpy as np\n",
        "import pandas as pd\n",
        "import scipy.stats as s"
      ]
    },
    {
      "cell_type": "code",
      "source": [
        "#inputs\n",
        "df=pd.read_excel(\"/content/data.xlsx\")\n",
        "print(df)"
      ],
      "metadata": {
        "colab": {
          "base_uri": "https://localhost:8080/"
        },
        "id": "QE4pmx6uO4ey",
        "outputId": "aaca988f-006f-4051-e459-5f0087c17466"
      },
      "execution_count": 6,
      "outputs": [
        {
          "output_type": "stream",
          "name": "stdout",
          "text": [
            "      y  x1  x2  x3\n",
            "0   100   1   9  62\n",
            "1   110   1   8  58\n",
            "2   105   1   7  64\n",
            "3    94   1  14  60\n",
            "4    95   1  12  63\n",
            "5    99   1  10  57\n",
            "6   104   1   7  55\n",
            "7   108   1   4  56\n",
            "8   105   1   6  59\n",
            "9    98   1   5  61\n",
            "10  105   1   7  57\n",
            "11  110   1   6  60\n"
          ]
        }
      ]
    },
    {
      "cell_type": "code",
      "source": [
        "x1=df['x1']\n",
        "x2=df['x2']\n",
        "x3=df['x3']\n",
        "y=df['y']\n",
        "print(x1)\n",
        "print(x2)\n",
        "print(x3)\n",
        "print(y)"
      ],
      "metadata": {
        "colab": {
          "base_uri": "https://localhost:8080/"
        },
        "id": "48PHXY7QRatT",
        "outputId": "027ba4fc-4b47-4d3c-975e-85c46aaf4587"
      },
      "execution_count": 7,
      "outputs": [
        {
          "output_type": "stream",
          "name": "stdout",
          "text": [
            "0     1\n",
            "1     1\n",
            "2     1\n",
            "3     1\n",
            "4     1\n",
            "5     1\n",
            "6     1\n",
            "7     1\n",
            "8     1\n",
            "9     1\n",
            "10    1\n",
            "11    1\n",
            "Name: x1, dtype: int64\n",
            "0      9\n",
            "1      8\n",
            "2      7\n",
            "3     14\n",
            "4     12\n",
            "5     10\n",
            "6      7\n",
            "7      4\n",
            "8      6\n",
            "9      5\n",
            "10     7\n",
            "11     6\n",
            "Name: x2, dtype: int64\n",
            "0     62\n",
            "1     58\n",
            "2     64\n",
            "3     60\n",
            "4     63\n",
            "5     57\n",
            "6     55\n",
            "7     56\n",
            "8     59\n",
            "9     61\n",
            "10    57\n",
            "11    60\n",
            "Name: x3, dtype: int64\n",
            "0     100\n",
            "1     110\n",
            "2     105\n",
            "3      94\n",
            "4      95\n",
            "5      99\n",
            "6     104\n",
            "7     108\n",
            "8     105\n",
            "9      98\n",
            "10    105\n",
            "11    110\n",
            "Name: y, dtype: int64\n"
          ]
        }
      ]
    },
    {
      "cell_type": "code",
      "source": [
        "arr1=x1.to_numpy()\n",
        "arr2=x2.to_numpy()\n",
        "arrx=x3.to_numpy()\n",
        "arr3=y.to_numpy()\n",
        "print(arr1,arr2,arr3,arrx)"
      ],
      "metadata": {
        "colab": {
          "base_uri": "https://localhost:8080/"
        },
        "id": "qOE4KyWBcxH4",
        "outputId": "a307377f-5e02-4f4f-f659-e04c6eb96200"
      },
      "execution_count": 8,
      "outputs": [
        {
          "output_type": "stream",
          "name": "stdout",
          "text": [
            "[1 1 1 1 1 1 1 1 1 1 1 1] [ 9  8  7 14 12 10  7  4  6  5  7  6] [100 110 105  94  95  99 104 108 105  98 105 110] [62 58 64 60 63 57 55 56 59 61 57 60]\n"
          ]
        }
      ]
    },
    {
      "cell_type": "code",
      "source": [
        "arr=np.array([arr1,arr2,arrx])\n",
        "print(arr)\n",
        "y_arr=np.array([arr3])\n",
        "print(y_arr)"
      ],
      "metadata": {
        "colab": {
          "base_uri": "https://localhost:8080/"
        },
        "id": "oAKBJaNnc1KW",
        "outputId": "fec80296-859b-490c-f023-e77415c1a363"
      },
      "execution_count": 9,
      "outputs": [
        {
          "output_type": "stream",
          "name": "stdout",
          "text": [
            "[[ 1  1  1  1  1  1  1  1  1  1  1  1]\n",
            " [ 9  8  7 14 12 10  7  4  6  5  7  6]\n",
            " [62 58 64 60 63 57 55 56 59 61 57 60]]\n",
            "[[100 110 105  94  95  99 104 108 105  98 105 110]]\n"
          ]
        }
      ]
    },
    {
      "cell_type": "code",
      "source": [
        "X=transpose(arr)\n",
        "print(X)\n",
        "Y=transpose(y_arr)\n",
        "print(Y)"
      ],
      "metadata": {
        "colab": {
          "base_uri": "https://localhost:8080/"
        },
        "id": "jm9O_OAaeI6j",
        "outputId": "a2853b86-41dd-4e3f-db49-1fffe55cb214"
      },
      "execution_count": 10,
      "outputs": [
        {
          "output_type": "stream",
          "name": "stdout",
          "text": [
            "[[1, 9, 62], [1, 8, 58], [1, 7, 64], [1, 14, 60], [1, 12, 63], [1, 10, 57], [1, 7, 55], [1, 4, 56], [1, 6, 59], [1, 5, 61], [1, 7, 57], [1, 6, 60]]\n",
            "[[100], [110], [105], [94], [95], [99], [104], [108], [105], [98], [105], [110]]\n"
          ]
        }
      ]
    },
    {
      "cell_type": "code",
      "source": [
        "def display(m):\n",
        "    for i in range(len(m)):\n",
        "        for j in range(len(m[0])):\n",
        "            print(m[i][j],end=\" \")\n",
        "        print()"
      ],
      "metadata": {
        "id": "D6nuQG6NeMdK"
      },
      "execution_count": 11,
      "outputs": []
    },
    {
      "cell_type": "code",
      "source": [
        "Xtx=mul(arr,X)\n",
        "display(Xtx)"
      ],
      "metadata": {
        "colab": {
          "base_uri": "https://localhost:8080/"
        },
        "id": "C_I5oZfFeQmX",
        "outputId": "780cf161-4402-4d78-ada1-213aece492fc"
      },
      "execution_count": 12,
      "outputs": [
        {
          "output_type": "stream",
          "name": "stdout",
          "text": [
            "12 95 712 \n",
            "95 845 5663 \n",
            "712 5663 42334 \n"
          ]
        }
      ]
    },
    {
      "cell_type": "code",
      "source": [
        "q=mul(arr,Y)\n",
        "display(q)"
      ],
      "metadata": {
        "colab": {
          "base_uri": "https://localhost:8080/"
        },
        "id": "GGwT3UHceX47",
        "outputId": "eb5d8e6f-b3d1-4c99-e0eb-460f7105374b"
      },
      "execution_count": 14,
      "outputs": [
        {
          "output_type": "stream",
          "name": "stdout",
          "text": [
            "1233 \n",
            "9636 \n",
            "73094 \n"
          ]
        }
      ]
    },
    {
      "cell_type": "code",
      "source": [
        "inv=inverse(Xtx)\n",
        "display(inv)"
      ],
      "metadata": {
        "colab": {
          "base_uri": "https://localhost:8080/"
        },
        "id": "QlD9M3-PeZHJ",
        "outputId": "599f45ee-9797-4ae3-e71d-380b475b1634"
      },
      "execution_count": 15,
      "outputs": [
        {
          "output_type": "stream",
          "name": "stdout",
          "text": [
            "40.89440259768947 0.11404651984714276 -0.7030438912327981 \n",
            "0.11404651984714276 0.011751452364648451 -0.003490092995515893 \n",
            "-0.7030438912327981 -0.003490092995515893 0.012314726867089306 \n"
          ]
        }
      ]
    },
    {
      "cell_type": "code",
      "source": [
        "betacap=mul(inv,q)\n",
        "display(betacap)"
      ],
      "metadata": {
        "colab": {
          "base_uri": "https://localhost:8080/"
        },
        "id": "MpsNTLjMefjd",
        "outputId": "960d8e7f-24fe-4952-fde7-15e0b2dc8528"
      },
      "execution_count": 16,
      "outputs": [
        {
          "output_type": "stream",
          "name": "stdout",
          "text": [
            "133.4605 \n",
            "-1.2485 \n",
            "-0.351 \n"
          ]
        }
      ]
    },
    {
      "cell_type": "code",
      "source": [
        "b=np.ravel(betacap)\n",
        "print(b)"
      ],
      "metadata": {
        "colab": {
          "base_uri": "https://localhost:8080/"
        },
        "id": "e0Xd9NWVj-4_",
        "outputId": "719218c9-f950-4703-fa4d-c374d488a893"
      },
      "execution_count": 17,
      "outputs": [
        {
          "output_type": "stream",
          "name": "stdout",
          "text": [
            "[133.4605  -1.2485  -0.351 ]\n"
          ]
        }
      ]
    },
    {
      "cell_type": "code",
      "source": [
        "print(\"equation is:\",\"y=\",betacap[0][0],\"+\",betacap[1][0],\"x1\",betacap[2][0],\"x2\")"
      ],
      "metadata": {
        "colab": {
          "base_uri": "https://localhost:8080/"
        },
        "id": "DURgqpClkAHf",
        "outputId": "6f2f655c-08cb-43a2-8777-efaa98378add"
      },
      "execution_count": 18,
      "outputs": [
        {
          "output_type": "stream",
          "name": "stdout",
          "text": [
            "equation is: y= 133.4605 + -1.2485 x1 -0.351 x2\n"
          ]
        }
      ]
    },
    {
      "cell_type": "code",
      "source": [
        "yexp=y\n",
        "ycal=betacap[0][0]+(betacap[1][0]*x2)+(betacap[2][0]*x3)\n",
        "print(ycal)"
      ],
      "metadata": {
        "colab": {
          "base_uri": "https://localhost:8080/"
        },
        "id": "waIconAqkUmQ",
        "outputId": "24787167-b93c-4431-ff0e-2a7ef0e428bd"
      },
      "execution_count": 19,
      "outputs": [
        {
          "output_type": "stream",
          "name": "stdout",
          "text": [
            "0     100.4620\n",
            "1     103.1145\n",
            "2     102.2570\n",
            "3      94.9215\n",
            "4      96.3655\n",
            "5     100.9685\n",
            "6     105.4160\n",
            "7     108.8105\n",
            "8     105.2605\n",
            "9     105.8070\n",
            "10    104.7140\n",
            "11    104.9095\n",
            "dtype: float64\n"
          ]
        }
      ]
    },
    {
      "cell_type": "code",
      "source": [
        "error=yexp-ycal\n",
        "print(error)"
      ],
      "metadata": {
        "colab": {
          "base_uri": "https://localhost:8080/"
        },
        "id": "f-y0C_xjkWAF",
        "outputId": "fd9fc2d4-29fe-44d7-997a-917d2790fd97"
      },
      "execution_count": 21,
      "outputs": [
        {
          "output_type": "stream",
          "name": "stdout",
          "text": [
            "0    -0.4620\n",
            "1     6.8855\n",
            "2     2.7430\n",
            "3    -0.9215\n",
            "4    -1.3655\n",
            "5    -1.9685\n",
            "6    -1.4160\n",
            "7    -0.8105\n",
            "8    -0.2605\n",
            "9    -7.8070\n",
            "10    0.2860\n",
            "11    5.0905\n",
            "dtype: float64\n"
          ]
        }
      ]
    },
    {
      "cell_type": "code",
      "source": [
        "def sum(x):\n",
        "    s=0\n",
        "    for i in x:\n",
        "        s=s+i\n",
        "    return s"
      ],
      "metadata": {
        "id": "34NU1O_OkYir"
      },
      "execution_count": 22,
      "outputs": []
    },
    {
      "cell_type": "code",
      "source": [
        "errorsq=error*error\n",
        "sum_error=sum(errorsq)\n",
        "print(\"sse:\",sum_error)"
      ],
      "metadata": {
        "colab": {
          "base_uri": "https://localhost:8080/"
        },
        "id": "8UbaxVMvkdis",
        "outputId": "8bf4bfda-72a5-4233-ff36-85caa7992a96"
      },
      "execution_count": 23,
      "outputs": [
        {
          "output_type": "stream",
          "name": "stdout",
          "text": [
            "sse: 151.4104097499999\n"
          ]
        }
      ]
    },
    {
      "cell_type": "code",
      "source": [
        "ysum=sum(y)\n",
        "ymean=ysum/len(y)\n",
        "print(ymean)"
      ],
      "metadata": {
        "colab": {
          "base_uri": "https://localhost:8080/"
        },
        "id": "36SqkwxXkiG7",
        "outputId": "6b282279-07c1-4065-bdbf-dfc47d305ea1"
      },
      "execution_count": 24,
      "outputs": [
        {
          "output_type": "stream",
          "name": "stdout",
          "text": [
            "102.75\n"
          ]
        }
      ]
    },
    {
      "cell_type": "code",
      "source": [
        "ydiff=y-ymean\n",
        "ydif=ydiff**2\n",
        "sst=sum(ydif)\n",
        "print(\"sst:\",sst)"
      ],
      "metadata": {
        "colab": {
          "base_uri": "https://localhost:8080/"
        },
        "id": "NVsacGIqkjpT",
        "outputId": "e999609b-9a4e-4a49-a9c4-b636506f9360"
      },
      "execution_count": 25,
      "outputs": [
        {
          "output_type": "stream",
          "name": "stdout",
          "text": [
            "sst: 330.25\n"
          ]
        }
      ]
    },
    {
      "cell_type": "code",
      "source": [
        "ssr=sst-sum_error\n",
        "print(\"ssr:\",ssr)"
      ],
      "metadata": {
        "colab": {
          "base_uri": "https://localhost:8080/"
        },
        "id": "V-om2981km6l",
        "outputId": "c32a0cc4-f882-418e-d53c-22c4fbd77c9d"
      },
      "execution_count": 26,
      "outputs": [
        {
          "output_type": "stream",
          "name": "stdout",
          "text": [
            "ssr: 178.8395902500001\n"
          ]
        }
      ]
    },
    {
      "cell_type": "code",
      "source": [
        "coff_of_det=ssr/sst\n",
        "print(coff_of_det)"
      ],
      "metadata": {
        "colab": {
          "base_uri": "https://localhost:8080/"
        },
        "id": "Yj3y_Ydekpco",
        "outputId": "386374cb-05fe-4a22-ac63-ad273512d315"
      },
      "execution_count": 27,
      "outputs": [
        {
          "output_type": "stream",
          "name": "stdout",
          "text": [
            "0.5415279038607119\n"
          ]
        }
      ]
    },
    {
      "cell_type": "code",
      "source": [
        "if(coff_of_det>0.90):\n",
        "    print(\"good fit\")\n",
        "else:\n",
        "    print(\"bad fit\")"
      ],
      "metadata": {
        "colab": {
          "base_uri": "https://localhost:8080/"
        },
        "id": "N0bjKo-6kr4x",
        "outputId": "8741b2df-293b-4f48-a33d-24184d540ad5"
      },
      "execution_count": 28,
      "outputs": [
        {
          "output_type": "stream",
          "name": "stdout",
          "text": [
            "bad fit\n"
          ]
        }
      ]
    },
    {
      "cell_type": "markdown",
      "source": [
        "Anova"
      ],
      "metadata": {
        "id": "gYzWBGmOkwhp"
      }
    },
    {
      "cell_type": "code",
      "source": [
        "df_regression=len(betacap)-1\n",
        "df_error=len(df)-len(betacap)\n",
        "mean_ssr=ssr/df_regression\n",
        "mean_sse=sum_error/df_error\n",
        "Fcal=mean_ssr/mean_sse\n",
        "print(\"Fcal:\",Fcal)"
      ],
      "metadata": {
        "colab": {
          "base_uri": "https://localhost:8080/"
        },
        "id": "wBLJicmckzJp",
        "outputId": "27fd6f8c-5fe0-49a6-a549-b9191b903ee4"
      },
      "execution_count": 29,
      "outputs": [
        {
          "output_type": "stream",
          "name": "stdout",
          "text": [
            "Fcal: 5.315210212123484\n"
          ]
        }
      ]
    },
    {
      "cell_type": "code",
      "source": [
        "Ftab=s.f.ppf(.95,df_regression,df_error)\n",
        "print(\"tablevalue:\",Ftab)"
      ],
      "metadata": {
        "colab": {
          "base_uri": "https://localhost:8080/"
        },
        "id": "5SwD3Ohvk6Um",
        "outputId": "7e62a32b-89fe-496f-961f-4545607b0b73"
      },
      "execution_count": 30,
      "outputs": [
        {
          "output_type": "stream",
          "name": "stdout",
          "text": [
            "tablevalue: 4.25649472909375\n"
          ]
        }
      ]
    },
    {
      "cell_type": "code",
      "source": [
        "if(Fcal>=Ftab):\n",
        "    print(\"reject null hypothesis and accept model\")\n",
        "else:\n",
        "    print(\"accept null and reject model\")"
      ],
      "metadata": {
        "colab": {
          "base_uri": "https://localhost:8080/"
        },
        "id": "Kqbdksimk89I",
        "outputId": "e375ac63-09b4-422a-9579-815753919597"
      },
      "execution_count": 31,
      "outputs": [
        {
          "output_type": "stream",
          "name": "stdout",
          "text": [
            "reject null hypothesis and accept model\n"
          ]
        }
      ]
    },
    {
      "cell_type": "markdown",
      "source": [
        "test for parameters"
      ],
      "metadata": {
        "id": "7zfWsx-_le1a"
      }
    },
    {
      "cell_type": "code",
      "source": [
        "c=[]\n",
        "for i in range(len(inv)):\n",
        "    for j in range(len(inv[0])):\n",
        "        if(i==j):\n",
        "            c.append(inv[i][j])\n",
        "print(c)"
      ],
      "metadata": {
        "colab": {
          "base_uri": "https://localhost:8080/"
        },
        "id": "DZZBKKKRlgVp",
        "outputId": "4dc1fd6f-8aff-4e4f-e591-e96a77625d04"
      },
      "execution_count": 32,
      "outputs": [
        {
          "output_type": "stream",
          "name": "stdout",
          "text": [
            "[40.89440259768947, 0.011751452364648451, 0.012314726867089306]\n"
          ]
        }
      ]
    },
    {
      "cell_type": "code",
      "source": [
        "se=[]\n",
        "t=[]\n",
        "for i in c:\n",
        "    p=(mean_sse*i)**0.5\n",
        "    se.append(p)\n",
        "for i in range(len(se)):\n",
        "    s=b[i]/se[i]\n",
        "    t.append(abs(s))\n",
        "print(t)"
      ],
      "metadata": {
        "colab": {
          "base_uri": "https://localhost:8080/"
        },
        "id": "t950EPTKlxXW",
        "outputId": "baf14835-21c6-4ba5-a824-f54459e29fe4"
      },
      "execution_count": 33,
      "outputs": [
        {
          "output_type": "stream",
          "name": "stdout",
          "text": [
            "[5.088200318385074, 2.8079292558137747, 0.7711486663819923]\n"
          ]
        }
      ]
    },
    {
      "cell_type": "code",
      "source": [
        "import scipy.stats\n",
        "ttab=scipy.stats.t.ppf(0.05/2,df_error)\n",
        "t_tab=abs(ttab)\n",
        "print(t_tab)"
      ],
      "metadata": {
        "colab": {
          "base_uri": "https://localhost:8080/"
        },
        "id": "y6Bqp4ipl0kD",
        "outputId": "447b75b2-2252-4729-afa3-1043a0ba45e3"
      },
      "execution_count": 35,
      "outputs": [
        {
          "output_type": "stream",
          "name": "stdout",
          "text": [
            "2.262157162740992\n"
          ]
        }
      ]
    },
    {
      "cell_type": "code",
      "source": [
        "for i in t:\n",
        "    if(i>=t_tab):\n",
        "        print(\"reject null and variable is contributing to model\")\n",
        "    else:\n",
        "        print(\"accept null and variable is not contributing to model\")"
      ],
      "metadata": {
        "colab": {
          "base_uri": "https://localhost:8080/"
        },
        "id": "mV5fn2JWBq_s",
        "outputId": "31ef350d-65e7-4909-f53d-1090963fd628"
      },
      "execution_count": 36,
      "outputs": [
        {
          "output_type": "stream",
          "name": "stdout",
          "text": [
            "reject null and variable is contributing to model\n",
            "reject null and variable is contributing to model\n",
            "accept null and variable is not contributing to model\n"
          ]
        }
      ]
    }
  ]
}