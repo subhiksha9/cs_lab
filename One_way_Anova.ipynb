{
  "nbformat": 4,
  "nbformat_minor": 0,
  "metadata": {
    "colab": {
      "provenance": [],
      "authorship_tag": "ABX9TyNA17HedtJ+An10lxugyw+Q",
      "include_colab_link": true
    },
    "kernelspec": {
      "name": "python3",
      "display_name": "Python 3"
    },
    "language_info": {
      "name": "python"
    }
  },
  "cells": [
    {
      "cell_type": "markdown",
      "metadata": {
        "id": "view-in-github",
        "colab_type": "text"
      },
      "source": [
        "<a href=\"https://colab.research.google.com/github/subhiksha9/cs_lab/blob/main/One_way_Anova.ipynb\" target=\"_parent\"><img src=\"https://colab.research.google.com/assets/colab-badge.svg\" alt=\"Open In Colab\"/></a>"
      ]
    },
    {
      "cell_type": "code",
      "execution_count": 1,
      "metadata": {
        "colab": {
          "base_uri": "https://localhost:8080/"
        },
        "id": "BQves5ADDWuq",
        "outputId": "152248f5-c0d4-489b-b0aa-25da121ff01d"
      },
      "outputs": [
        {
          "output_type": "stream",
          "name": "stdout",
          "text": [
            "enter no.of treatments:3\n",
            "3\n"
          ]
        }
      ],
      "source": [
        "k=int(input(\"enter no.of treatments:\"))\n",
        "print(k)"
      ]
    },
    {
      "cell_type": "code",
      "source": [
        "import pandas as pd\n",
        "x=[13,10,8,11,8]\n",
        "y=[13,11,14,14]\n",
        "z=[4,1,3,4,2,4]\n",
        "print(x,y,z)\n",
        "combined_data=[]\n",
        "combined_data.extend(x)\n",
        "combined_data.extend(y)\n",
        "combined_data.extend(z)\n",
        "\n",
        "print(combined_data)"
      ],
      "metadata": {
        "colab": {
          "base_uri": "https://localhost:8080/"
        },
        "id": "aOkBZd3xG8_H",
        "outputId": "b9ec3e6c-26e5-47b5-d0a0-b8de52a2d042"
      },
      "execution_count": 2,
      "outputs": [
        {
          "output_type": "stream",
          "name": "stdout",
          "text": [
            "[13, 10, 8, 11, 8] [13, 11, 14, 14] [4, 1, 3, 4, 2, 4]\n",
            "[13, 10, 8, 11, 8, 13, 11, 14, 14, 4, 1, 3, 4, 2, 4]\n"
          ]
        }
      ]
    },
    {
      "cell_type": "code",
      "source": [
        "def sum(x):\n",
        "  s=0\n",
        "  for i in x:\n",
        "    s=s+i\n",
        "  return s\n",
        "fx=sum(x)\n",
        "fy=sum(y)\n",
        "fz=sum(z)\n",
        "print(fx,fy,fz)\n",
        "fxx=(fx**2)/len(x)\n",
        "fyy=(fy**2)/len(y)\n",
        "fzz=(fz**2)/len(z)\n",
        "print(fxx,fyy,fzz)\n",
        "sig=fxx+fyy+fzz\n",
        "G=fx+fy+fz\n",
        "print(\"grand total:\",G)\n",
        "print(\"sig:\",sig)"
      ],
      "metadata": {
        "colab": {
          "base_uri": "https://localhost:8080/"
        },
        "id": "y0NVjze6HF27",
        "outputId": "76d05d7d-83de-4149-d0ce-60c9afa0f6a6"
      },
      "execution_count": 3,
      "outputs": [
        {
          "output_type": "stream",
          "name": "stdout",
          "text": [
            "50 52 18\n",
            "500.0 676.0 54.0\n",
            "grand total: 120\n",
            "sig: 1230.0\n"
          ]
        }
      ]
    },
    {
      "cell_type": "code",
      "source": [
        "s=0\n",
        "for i in combined_data:\n",
        "  s=s+(i**2)\n",
        "rss=s\n",
        "print(\"rss:\",rss)\n",
        "cf=(G**2)/len(combined_data)\n",
        "print(\"cf:\",cf)\n",
        "sst=rss-cf\n",
        "print(\"sst:\",sst)\n",
        "sstr=sig-cf\n",
        "print(\"sum due to treatments:\",sstr)\n",
        "sse=sst-sstr\n",
        "print(\"sum due to error:\",sse)"
      ],
      "metadata": {
        "colab": {
          "base_uri": "https://localhost:8080/"
        },
        "id": "4B4lQUybHIq4",
        "outputId": "e3144790-7e83-4c5c-f9d8-1b11b2ff4ac8"
      },
      "execution_count": 4,
      "outputs": [
        {
          "output_type": "stream",
          "name": "stdout",
          "text": [
            "rss: 1262\n",
            "cf: 960.0\n",
            "sst: 302.0\n",
            "sum due to treatments: 270.0\n",
            "sum due to error: 32.0\n"
          ]
        }
      ]
    },
    {
      "cell_type": "code",
      "source": [
        "df_treat=k-1\n",
        "df_error=len(combined_data)-k\n",
        "print(df_treat,df_error)"
      ],
      "metadata": {
        "colab": {
          "base_uri": "https://localhost:8080/"
        },
        "id": "zxdP7pdJHLCV",
        "outputId": "3bdc0eb6-c266-4ac9-c424-b3cedb3ea98f"
      },
      "execution_count": 5,
      "outputs": [
        {
          "output_type": "stream",
          "name": "stdout",
          "text": [
            "2 12\n"
          ]
        }
      ]
    },
    {
      "cell_type": "code",
      "source": [
        "msstr=sstr/df_treat\n",
        "print(\"msstr:\",msstr)\n",
        "msse=sse/df_error\n",
        "print(\"msse:\",msse)"
      ],
      "metadata": {
        "colab": {
          "base_uri": "https://localhost:8080/"
        },
        "id": "favN8FoWHMaJ",
        "outputId": "2a5cbf55-dc87-425f-da36-7f34e0825282"
      },
      "execution_count": 6,
      "outputs": [
        {
          "output_type": "stream",
          "name": "stdout",
          "text": [
            "msstr: 135.0\n",
            "msse: 2.6666666666666665\n"
          ]
        }
      ]
    },
    {
      "cell_type": "code",
      "source": [
        "F_cal=msstr/msse\n",
        "\n",
        "print(\"caluclated value:\",F_cal)"
      ],
      "metadata": {
        "colab": {
          "base_uri": "https://localhost:8080/"
        },
        "id": "NLmXlpqtHQoN",
        "outputId": "3ac1a697-fa0a-450a-fa15-dea0f84d4dd7"
      },
      "execution_count": 7,
      "outputs": [
        {
          "output_type": "stream",
          "name": "stdout",
          "text": [
            "caluclated value: 50.625\n"
          ]
        }
      ]
    },
    {
      "cell_type": "code",
      "source": [
        "import scipy.stats as s\n",
        "F_tab=s.f.ppf(.95,df_treat,df_error)\n",
        "print(\"table value:\",F_tab)"
      ],
      "metadata": {
        "colab": {
          "base_uri": "https://localhost:8080/"
        },
        "id": "duK9R9VyHSnK",
        "outputId": "d0ead3ed-d57e-454b-dcd7-f7bdcc670c42"
      },
      "execution_count": 8,
      "outputs": [
        {
          "output_type": "stream",
          "name": "stdout",
          "text": [
            "table value: 3.8852938346523933\n"
          ]
        }
      ]
    },
    {
      "cell_type": "code",
      "source": [
        "if(F_cal>=F_tab):\n",
        "  print(\"reject null hypothesis\")\n",
        "else:\n",
        "  print(\"accept null hypothesis\")"
      ],
      "metadata": {
        "colab": {
          "base_uri": "https://localhost:8080/"
        },
        "id": "tP4Idlu4HW3f",
        "outputId": "4417ff63-0fe5-45bd-fbac-686bb04fe59b"
      },
      "execution_count": 9,
      "outputs": [
        {
          "output_type": "stream",
          "name": "stdout",
          "text": [
            "reject null hypothesis\n"
          ]
        }
      ]
    }
  ]
}