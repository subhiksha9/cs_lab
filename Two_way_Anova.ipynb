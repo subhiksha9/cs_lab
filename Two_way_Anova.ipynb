{
  "nbformat": 4,
  "nbformat_minor": 0,
  "metadata": {
    "colab": {
      "provenance": [],
      "authorship_tag": "ABX9TyMLcoB2oxAyXsv9+mRsESB3",
      "include_colab_link": true
    },
    "kernelspec": {
      "name": "python3",
      "display_name": "Python 3"
    },
    "language_info": {
      "name": "python"
    }
  },
  "cells": [
    {
      "cell_type": "markdown",
      "metadata": {
        "id": "view-in-github",
        "colab_type": "text"
      },
      "source": [
        "<a href=\"https://colab.research.google.com/github/subhiksha9/cs_lab/blob/main/Two_way_Anova.ipynb\" target=\"_parent\"><img src=\"https://colab.research.google.com/assets/colab-badge.svg\" alt=\"Open In Colab\"/></a>"
      ]
    },
    {
      "cell_type": "code",
      "execution_count": 1,
      "metadata": {
        "colab": {
          "base_uri": "https://localhost:8080/"
        },
        "id": "YXjmPwvUH7Iv",
        "outputId": "c66c5e81-c478-41db-9eeb-7f41c1e7c18e"
      },
      "outputs": [
        {
          "output_type": "stream",
          "name": "stdout",
          "text": [
            "            b1  b2  b3  b4\n",
            "treatment1  13   7   9   3\n",
            "treatment2   6   6   3   1\n",
            "treatment3  11   5  15   5\n"
          ]
        }
      ],
      "source": [
        "import numpy as np\n",
        "import pandas as pd\n",
        "d={'b1':[13,6,11],'b2':[7,6,5],'b3':[9,3,15],'b4':[3,1,5]}\n",
        "df=pd.DataFrame(d)\n",
        "df.index=['treatment1','treatment2','treatment3']\n",
        "print(df)"
      ]
    },
    {
      "cell_type": "code",
      "source": [
        "b=df.sum(axis=0)\n",
        "print(b)\n",
        "bsq=b*b\n",
        "print(bsq)"
      ],
      "metadata": {
        "colab": {
          "base_uri": "https://localhost:8080/"
        },
        "id": "uHjJulrBIOqV",
        "outputId": "8c907633-e6b5-4440-c292-fddff2145be4"
      },
      "execution_count": 2,
      "outputs": [
        {
          "output_type": "stream",
          "name": "stdout",
          "text": [
            "b1    30\n",
            "b2    18\n",
            "b3    27\n",
            "b4     9\n",
            "dtype: int64\n",
            "b1    900\n",
            "b2    324\n",
            "b3    729\n",
            "b4     81\n",
            "dtype: int64\n"
          ]
        }
      ]
    },
    {
      "cell_type": "code",
      "source": [
        "t=df.sum(axis=1)\n",
        "print(t)\n",
        "tsq=t*t\n",
        "print(tsq)"
      ],
      "metadata": {
        "colab": {
          "base_uri": "https://localhost:8080/"
        },
        "id": "uF0j9WohISJc",
        "outputId": "be0bab1f-1a72-467c-90f3-c035412def2a"
      },
      "execution_count": 3,
      "outputs": [
        {
          "output_type": "stream",
          "name": "stdout",
          "text": [
            "treatment1    32\n",
            "treatment2    16\n",
            "treatment3    36\n",
            "dtype: int64\n",
            "treatment1    1024\n",
            "treatment2     256\n",
            "treatment3    1296\n",
            "dtype: int64\n"
          ]
        }
      ]
    },
    {
      "cell_type": "code",
      "source": [
        "def sum(x):\n",
        "  s=0\n",
        "  for i in x:\n",
        "    s=s+i\n",
        "  return s\n",
        "grandtotal=sum(t)\n",
        "print(\"grandtotal:\",grandtotal)\n",
        "sumtsq=sum(tsq)\n",
        "print(\"tsq:\",sumtsq)"
      ],
      "metadata": {
        "colab": {
          "base_uri": "https://localhost:8080/"
        },
        "id": "RAYWSVwwIV-N",
        "outputId": "d0a47a55-037f-43ca-ba9f-c8ef41c6a4ed"
      },
      "execution_count": 4,
      "outputs": [
        {
          "output_type": "stream",
          "name": "stdout",
          "text": [
            "grandtotal: 84\n",
            "tsq: 2576\n"
          ]
        }
      ]
    },
    {
      "cell_type": "code",
      "source": [
        "sumbsq=sum(bsq)\n",
        "print(\"sumbsq:\",sumbsq)"
      ],
      "metadata": {
        "colab": {
          "base_uri": "https://localhost:8080/"
        },
        "id": "DXMMR-2GI0b0",
        "outputId": "f6b59e56-4225-4013-b0a3-23ac20716333"
      },
      "execution_count": 5,
      "outputs": [
        {
          "output_type": "stream",
          "name": "stdout",
          "text": [
            "sumbsq: 2034\n"
          ]
        }
      ]
    },
    {
      "cell_type": "code",
      "source": [
        "rss=0\n",
        "for i in d.keys():\n",
        "  for j in d[i]:\n",
        "    rss=rss+(j*j)\n",
        "cf=(grandtotal)**2/df.size\n",
        "sum_of_tot=rss-cf\n",
        "sum_of_treatments=(sumtsq/len(df.columns)-cf)\n",
        "sum_of_blocks=(sumbsq/len(df)-cf)\n",
        "sum_of_errors=((sum_of_tot-sum_of_treatments)-sum_of_blocks)\n",
        "print(\"rss:\",rss)\n",
        "print(\"cf:\",cf)\n",
        "print(\"sum due to total:\",sum_of_tot)\n",
        "print(\"sum due to treatments:\",sum_of_treatments)\n",
        "print(\"sum due to blocks:\",sum_of_blocks)\n",
        "print(\"sum due to errors:\",sum_of_errors)"
      ],
      "metadata": {
        "colab": {
          "base_uri": "https://localhost:8080/"
        },
        "id": "vayn8G2iI3BX",
        "outputId": "bac91f95-89f0-4f92-fe36-76195011fa01"
      },
      "execution_count": 6,
      "outputs": [
        {
          "output_type": "stream",
          "name": "stdout",
          "text": [
            "rss: 786\n",
            "cf: 588.0\n",
            "sum due to total: 198.0\n",
            "sum due to treatments: 56.0\n",
            "sum due to blocks: 90.0\n",
            "sum due to errors: 52.0\n"
          ]
        }
      ]
    },
    {
      "cell_type": "code",
      "source": [
        "df_treatments=len(df)-1\n",
        "df_blocks=len(df.columns)-1\n",
        "df_error=df_treatments*df_blocks\n",
        "print(df_treatments,df_blocks,df_error,end=\"\")"
      ],
      "metadata": {
        "colab": {
          "base_uri": "https://localhost:8080/"
        },
        "id": "NxUggzYTI5S6",
        "outputId": "0d47f3eb-f784-49b6-a445-48e13f363f86"
      },
      "execution_count": 7,
      "outputs": [
        {
          "output_type": "stream",
          "name": "stdout",
          "text": [
            "2 3 6"
          ]
        }
      ]
    },
    {
      "cell_type": "code",
      "source": [
        "mst=sum_of_treatments/df_treatments\n",
        "msb=sum_of_blocks/df_blocks\n",
        "mse=sum_of_errors/df_error\n",
        "print(mst,msb,mse,end=\" \")"
      ],
      "metadata": {
        "colab": {
          "base_uri": "https://localhost:8080/"
        },
        "id": "Zy3v70xXI8lt",
        "outputId": "1f5f06d0-75a0-4120-beab-ff0056542c04"
      },
      "execution_count": 8,
      "outputs": [
        {
          "output_type": "stream",
          "name": "stdout",
          "text": [
            "28.0 30.0 8.666666666666666 "
          ]
        }
      ]
    },
    {
      "cell_type": "code",
      "source": [
        "Fcal_treatments=mst/mse\n",
        "Fcal_blocks=msb/mse\n",
        "print(\"Fcal:\",Fcal_treatments)\n",
        "print(\"Fcal_block:\",Fcal_blocks)"
      ],
      "metadata": {
        "colab": {
          "base_uri": "https://localhost:8080/"
        },
        "id": "iDj8LhBYJBX2",
        "outputId": "8220665d-1707-442f-97db-6bf775fb6ad8"
      },
      "execution_count": 9,
      "outputs": [
        {
          "output_type": "stream",
          "name": "stdout",
          "text": [
            "Fcal: 3.230769230769231\n",
            "Fcal_block: 3.4615384615384617\n"
          ]
        }
      ]
    },
    {
      "cell_type": "code",
      "source": [
        "import scipy.stats as s\n",
        "F_tab_treat=s.f.ppf(.95,df_treatments,df_error)\n",
        "F_tab_block=s.f.ppf(.95,df_blocks,df_error)\n",
        "print(\"table value for treatments:\",F_tab_treat)\n",
        "print(\"table value for blocks:\",F_tab_block)"
      ],
      "metadata": {
        "colab": {
          "base_uri": "https://localhost:8080/"
        },
        "id": "VI19tPWhJFB0",
        "outputId": "5ab46ebf-3ed0-4259-e619-d80d1a5c6e92"
      },
      "execution_count": 10,
      "outputs": [
        {
          "output_type": "stream",
          "name": "stdout",
          "text": [
            "table value for treatments: 5.143252849784718\n",
            "table value for blocks: 4.757062663089414\n"
          ]
        }
      ]
    },
    {
      "cell_type": "code",
      "source": [
        "if(F_tab_treat>Fcal_treatments):\n",
        "  print(\"homogeneity among treatments\")\n",
        "if(F_tab_block>Fcal_blocks):\n",
        "  print(\"homogeneity among blocks\")\n",
        "else:\n",
        "  print(\"there is no homogeneity\")"
      ],
      "metadata": {
        "colab": {
          "base_uri": "https://localhost:8080/"
        },
        "id": "lDTz-KTDJIX9",
        "outputId": "7bdcab87-e018-4a3a-b49d-5e68a7ded8dd"
      },
      "execution_count": 11,
      "outputs": [
        {
          "output_type": "stream",
          "name": "stdout",
          "text": [
            "homogeneity among treatments\n",
            "homogeneity among blocks\n"
          ]
        }
      ]
    }
  ]
}