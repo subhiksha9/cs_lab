{
  "nbformat": 4,
  "nbformat_minor": 0,
  "metadata": {
    "colab": {
      "provenance": [],
      "authorship_tag": "ABX9TyOJh3SeNDn2hDLlIwrilIzO",
      "include_colab_link": true
    },
    "kernelspec": {
      "name": "python3",
      "display_name": "Python 3"
    },
    "language_info": {
      "name": "python"
    }
  },
  "cells": [
    {
      "cell_type": "markdown",
      "metadata": {
        "id": "view-in-github",
        "colab_type": "text"
      },
      "source": [
        "<a href=\"https://colab.research.google.com/github/subhiksha9/cs_lab/blob/main/Spearman%E2%80%99s_correlation_coefficient.ipynb\" target=\"_parent\"><img src=\"https://colab.research.google.com/assets/colab-badge.svg\" alt=\"Open In Colab\"/></a>"
      ]
    },
    {
      "cell_type": "code",
      "execution_count": 12,
      "metadata": {
        "colab": {
          "base_uri": "https://localhost:8080/"
        },
        "id": "W5cCKbe9B16s",
        "outputId": "dc2ac0df-07c2-4fbb-be13-535a64892939"
      },
      "outputs": [
        {
          "name": "stdout",
          "output_type": "stream",
          "text": [
            "105 109 112 87 98 120 98 100 98 118\n",
            "75 73 85 70 76 82 65 73 68 80\n"
          ]
        }
      ],
      "source": [
        "import numpy as np\n",
        "import pandas as pd\n",
        "a=[int(x) for x in input().split(\" \")]\n",
        "b=[int(x) for x in input().split(\" \")]\n",
        "n=len(a)\n",
        "df=pd.DataFrame({'x':a,'y':b})"
      ]
    },
    {
      "cell_type": "code",
      "source": [
        "x=df['x']\n",
        "y=df['y']"
      ],
      "metadata": {
        "id": "6aOfHvJICQYM"
      },
      "execution_count": 13,
      "outputs": []
    },
    {
      "cell_type": "code",
      "source": [
        "xx=list(x)\n",
        "yy=list(y)\n",
        "xx.sort(reverse=True)\n",
        "d=dict()\n",
        "i=0\n",
        "while(i<len(xx)):\n",
        "  if(xx.count(xx[i])==1):\n",
        "    d[xx[i]]=i+1\n",
        "    i=i+1\n",
        "  else:\n",
        "    s=0\n",
        "    for j in range(xx.count(xx[i])):\n",
        "      s=s+(j+i+1)\n",
        "    avg=s/(xx.count(xx[i]))\n",
        "\n",
        "    d[xx[i]]=avg\n",
        "    i=i+xx.count(xx[i])\n",
        "    \n",
        "l=[]\n",
        "for i in x:\n",
        "  if i in d.keys():\n",
        "    l.append(d[i])\n",
        "p=pd.DataFrame(l)\n",
        "df['rankx']=p\n",
        "yy.sort(reverse=True)\n",
        "i=0\n",
        "while(i<len(yy)):\n",
        "  if(yy.count(yy[i])==1):\n",
        "    d[yy[i]]=i+1\n",
        "    i=i+1\n",
        "  else:\n",
        "    s=0\n",
        "    for j in range(yy.count(yy[i])):\n",
        "      s=s+(j+i+1)\n",
        "    avg=s/(yy.count(yy[i]))\n",
        "\n",
        "    d[yy[i]]=avg\n",
        "    i=i+yy.count(yy[i])\n",
        "\n",
        "l=[]\n",
        "for i in y:\n",
        "  if i in d.keys():\n",
        "    l.append(d[i])\n",
        "p=pd.DataFrame(l)\n",
        "df['ranky']=p\n",
        "print(df)\n",
        "print(xx)"
      ],
      "metadata": {
        "colab": {
          "base_uri": "https://localhost:8080/"
        },
        "id": "Oa0gbcRUCTIQ",
        "outputId": "d30015c5-263f-457a-9aaf-5d290fcc4ceb"
      },
      "execution_count": 14,
      "outputs": [
        {
          "output_type": "stream",
          "name": "stdout",
          "text": [
            "     x   y  rankx  ranky\n",
            "0  105  75    5.0    5.0\n",
            "1  109  73    4.0    6.5\n",
            "2  112  85    3.0    1.0\n",
            "3   87  70   10.0    8.0\n",
            "4   98  76    8.0    4.0\n",
            "5  120  82    1.0    2.0\n",
            "6   98  65    8.0   10.0\n",
            "7  100  73    6.0    6.5\n",
            "8   98  68    8.0    9.0\n",
            "9  118  80    2.0    3.0\n",
            "[120, 118, 112, 109, 105, 100, 98, 98, 98, 87]\n"
          ]
        }
      ]
    },
    {
      "cell_type": "code",
      "source": [
        "df['fin']=df['rankx']-df['ranky']\n",
        "print(df)"
      ],
      "metadata": {
        "colab": {
          "base_uri": "https://localhost:8080/"
        },
        "id": "Qu2Ps1iVCZR_",
        "outputId": "ba727366-91b5-4fbe-cd2d-5228aa3688e1"
      },
      "execution_count": 15,
      "outputs": [
        {
          "output_type": "stream",
          "name": "stdout",
          "text": [
            "     x   y  rankx  ranky  fin\n",
            "0  105  75    5.0    5.0  0.0\n",
            "1  109  73    4.0    6.5 -2.5\n",
            "2  112  85    3.0    1.0  2.0\n",
            "3   87  70   10.0    8.0  2.0\n",
            "4   98  76    8.0    4.0  4.0\n",
            "5  120  82    1.0    2.0 -1.0\n",
            "6   98  65    8.0   10.0 -2.0\n",
            "7  100  73    6.0    6.5 -0.5\n",
            "8   98  68    8.0    9.0 -1.0\n",
            "9  118  80    2.0    3.0 -1.0\n"
          ]
        }
      ]
    },
    {
      "cell_type": "code",
      "source": [
        "df['d']=df['fin']*df['fin']\n",
        "print(df)"
      ],
      "metadata": {
        "colab": {
          "base_uri": "https://localhost:8080/"
        },
        "id": "VYTOyBCyCbNh",
        "outputId": "0c21cb83-9f0c-4a6a-f551-e4ca886e8e8b"
      },
      "execution_count": 16,
      "outputs": [
        {
          "output_type": "stream",
          "name": "stdout",
          "text": [
            "     x   y  rankx  ranky  fin      d\n",
            "0  105  75    5.0    5.0  0.0   0.00\n",
            "1  109  73    4.0    6.5 -2.5   6.25\n",
            "2  112  85    3.0    1.0  2.0   4.00\n",
            "3   87  70   10.0    8.0  2.0   4.00\n",
            "4   98  76    8.0    4.0  4.0  16.00\n",
            "5  120  82    1.0    2.0 -1.0   1.00\n",
            "6   98  65    8.0   10.0 -2.0   4.00\n",
            "7  100  73    6.0    6.5 -0.5   0.25\n",
            "8   98  68    8.0    9.0 -1.0   1.00\n",
            "9  118  80    2.0    3.0 -1.0   1.00\n"
          ]
        }
      ]
    },
    {
      "cell_type": "code",
      "source": [
        "s=0\n",
        "for i in df['d']:\n",
        "  s=s+i\n",
        "\n",
        "coff=1-((6*s)/(len(x)*((len(x)**2)-1)))\n",
        "print(coff)"
      ],
      "metadata": {
        "colab": {
          "base_uri": "https://localhost:8080/"
        },
        "id": "Upfod1mvCdHb",
        "outputId": "0b3738a1-d8bd-4f31-f795-c5959579fcd8"
      },
      "execution_count": 17,
      "outputs": [
        {
          "output_type": "stream",
          "name": "stdout",
          "text": [
            "0.7727272727272727\n"
          ]
        }
      ]
    }
  ]
}