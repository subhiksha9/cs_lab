{
  "nbformat": 4,
  "nbformat_minor": 0,
  "metadata": {
    "colab": {
      "provenance": [],
      "authorship_tag": "ABX9TyP1aKoe6dUjJchyfp1NIVqK",
      "include_colab_link": true
    },
    "kernelspec": {
      "name": "python3",
      "display_name": "Python 3"
    },
    "language_info": {
      "name": "python"
    }
  },
  "cells": [
    {
      "cell_type": "markdown",
      "metadata": {
        "id": "view-in-github",
        "colab_type": "text"
      },
      "source": [
        "<a href=\"https://colab.research.google.com/github/subhiksha9/cs_lab/blob/main/LDA_Fishers.ipynb\" target=\"_parent\"><img src=\"https://colab.research.google.com/assets/colab-badge.svg\" alt=\"Open In Colab\"/></a>"
      ]
    },
    {
      "cell_type": "code",
      "execution_count": 1,
      "metadata": {
        "colab": {
          "base_uri": "https://localhost:8080/",
          "height": 269
        },
        "id": "QTBAG0yhsc8Q",
        "outputId": "8e987cca-56c8-49bf-9902-838db571c262"
      },
      "outputs": [
        {
          "output_type": "execute_result",
          "data": {
            "text/plain": [
              "   curvature  diameter     result\n",
              "0       2.95      6.63     passed\n",
              "1       2.53      7.79     passed\n",
              "2       3.57      5.65     passed\n",
              "3       3.16      5.47     passed\n",
              "4       2.58      4.46  notpassed\n",
              "5       2.16      6.22  notpassed\n",
              "6       3.27      3.52  notpassed"
            ],
            "text/html": [
              "\n",
              "  <div id=\"df-c45d4237-c104-4c87-baf2-5a600f140888\">\n",
              "    <div class=\"colab-df-container\">\n",
              "      <div>\n",
              "<style scoped>\n",
              "    .dataframe tbody tr th:only-of-type {\n",
              "        vertical-align: middle;\n",
              "    }\n",
              "\n",
              "    .dataframe tbody tr th {\n",
              "        vertical-align: top;\n",
              "    }\n",
              "\n",
              "    .dataframe thead th {\n",
              "        text-align: right;\n",
              "    }\n",
              "</style>\n",
              "<table border=\"1\" class=\"dataframe\">\n",
              "  <thead>\n",
              "    <tr style=\"text-align: right;\">\n",
              "      <th></th>\n",
              "      <th>curvature</th>\n",
              "      <th>diameter</th>\n",
              "      <th>result</th>\n",
              "    </tr>\n",
              "  </thead>\n",
              "  <tbody>\n",
              "    <tr>\n",
              "      <th>0</th>\n",
              "      <td>2.95</td>\n",
              "      <td>6.63</td>\n",
              "      <td>passed</td>\n",
              "    </tr>\n",
              "    <tr>\n",
              "      <th>1</th>\n",
              "      <td>2.53</td>\n",
              "      <td>7.79</td>\n",
              "      <td>passed</td>\n",
              "    </tr>\n",
              "    <tr>\n",
              "      <th>2</th>\n",
              "      <td>3.57</td>\n",
              "      <td>5.65</td>\n",
              "      <td>passed</td>\n",
              "    </tr>\n",
              "    <tr>\n",
              "      <th>3</th>\n",
              "      <td>3.16</td>\n",
              "      <td>5.47</td>\n",
              "      <td>passed</td>\n",
              "    </tr>\n",
              "    <tr>\n",
              "      <th>4</th>\n",
              "      <td>2.58</td>\n",
              "      <td>4.46</td>\n",
              "      <td>notpassed</td>\n",
              "    </tr>\n",
              "    <tr>\n",
              "      <th>5</th>\n",
              "      <td>2.16</td>\n",
              "      <td>6.22</td>\n",
              "      <td>notpassed</td>\n",
              "    </tr>\n",
              "    <tr>\n",
              "      <th>6</th>\n",
              "      <td>3.27</td>\n",
              "      <td>3.52</td>\n",
              "      <td>notpassed</td>\n",
              "    </tr>\n",
              "  </tbody>\n",
              "</table>\n",
              "</div>\n",
              "      <button class=\"colab-df-convert\" onclick=\"convertToInteractive('df-c45d4237-c104-4c87-baf2-5a600f140888')\"\n",
              "              title=\"Convert this dataframe to an interactive table.\"\n",
              "              style=\"display:none;\">\n",
              "        \n",
              "  <svg xmlns=\"http://www.w3.org/2000/svg\" height=\"24px\"viewBox=\"0 0 24 24\"\n",
              "       width=\"24px\">\n",
              "    <path d=\"M0 0h24v24H0V0z\" fill=\"none\"/>\n",
              "    <path d=\"M18.56 5.44l.94 2.06.94-2.06 2.06-.94-2.06-.94-.94-2.06-.94 2.06-2.06.94zm-11 1L8.5 8.5l.94-2.06 2.06-.94-2.06-.94L8.5 2.5l-.94 2.06-2.06.94zm10 10l.94 2.06.94-2.06 2.06-.94-2.06-.94-.94-2.06-.94 2.06-2.06.94z\"/><path d=\"M17.41 7.96l-1.37-1.37c-.4-.4-.92-.59-1.43-.59-.52 0-1.04.2-1.43.59L10.3 9.45l-7.72 7.72c-.78.78-.78 2.05 0 2.83L4 21.41c.39.39.9.59 1.41.59.51 0 1.02-.2 1.41-.59l7.78-7.78 2.81-2.81c.8-.78.8-2.07 0-2.86zM5.41 20L4 18.59l7.72-7.72 1.47 1.35L5.41 20z\"/>\n",
              "  </svg>\n",
              "      </button>\n",
              "      \n",
              "  <style>\n",
              "    .colab-df-container {\n",
              "      display:flex;\n",
              "      flex-wrap:wrap;\n",
              "      gap: 12px;\n",
              "    }\n",
              "\n",
              "    .colab-df-convert {\n",
              "      background-color: #E8F0FE;\n",
              "      border: none;\n",
              "      border-radius: 50%;\n",
              "      cursor: pointer;\n",
              "      display: none;\n",
              "      fill: #1967D2;\n",
              "      height: 32px;\n",
              "      padding: 0 0 0 0;\n",
              "      width: 32px;\n",
              "    }\n",
              "\n",
              "    .colab-df-convert:hover {\n",
              "      background-color: #E2EBFA;\n",
              "      box-shadow: 0px 1px 2px rgba(60, 64, 67, 0.3), 0px 1px 3px 1px rgba(60, 64, 67, 0.15);\n",
              "      fill: #174EA6;\n",
              "    }\n",
              "\n",
              "    [theme=dark] .colab-df-convert {\n",
              "      background-color: #3B4455;\n",
              "      fill: #D2E3FC;\n",
              "    }\n",
              "\n",
              "    [theme=dark] .colab-df-convert:hover {\n",
              "      background-color: #434B5C;\n",
              "      box-shadow: 0px 1px 3px 1px rgba(0, 0, 0, 0.15);\n",
              "      filter: drop-shadow(0px 1px 2px rgba(0, 0, 0, 0.3));\n",
              "      fill: #FFFFFF;\n",
              "    }\n",
              "  </style>\n",
              "\n",
              "      <script>\n",
              "        const buttonEl =\n",
              "          document.querySelector('#df-c45d4237-c104-4c87-baf2-5a600f140888 button.colab-df-convert');\n",
              "        buttonEl.style.display =\n",
              "          google.colab.kernel.accessAllowed ? 'block' : 'none';\n",
              "\n",
              "        async function convertToInteractive(key) {\n",
              "          const element = document.querySelector('#df-c45d4237-c104-4c87-baf2-5a600f140888');\n",
              "          const dataTable =\n",
              "            await google.colab.kernel.invokeFunction('convertToInteractive',\n",
              "                                                     [key], {});\n",
              "          if (!dataTable) return;\n",
              "\n",
              "          const docLinkHtml = 'Like what you see? Visit the ' +\n",
              "            '<a target=\"_blank\" href=https://colab.research.google.com/notebooks/data_table.ipynb>data table notebook</a>'\n",
              "            + ' to learn more about interactive tables.';\n",
              "          element.innerHTML = '';\n",
              "          dataTable['output_type'] = 'display_data';\n",
              "          await google.colab.output.renderOutput(dataTable, element);\n",
              "          const docLink = document.createElement('div');\n",
              "          docLink.innerHTML = docLinkHtml;\n",
              "          element.appendChild(docLink);\n",
              "        }\n",
              "      </script>\n",
              "    </div>\n",
              "  </div>\n",
              "  "
            ]
          },
          "metadata": {},
          "execution_count": 1
        }
      ],
      "source": [
        "import pandas as pd\n",
        "import numpy as np\n",
        "df=pd.read_excel(\"/content/book1.xlsx\")\n",
        "df"
      ]
    },
    {
      "cell_type": "code",
      "source": [
        "x1=df['curvature']\n",
        "x2=df['diameter']\n",
        "y=df['result']"
      ],
      "metadata": {
        "id": "kjVgGDIAtVss"
      },
      "execution_count": 2,
      "outputs": []
    },
    {
      "cell_type": "code",
      "source": [
        "def transpose(m):\n",
        "    res=[[0 for i in range(len(m))]for j in range(len(m[0]))]\n",
        "    for i in range(len(m[0])):\n",
        "        for j in range(len(m)):\n",
        "            res[i][j]=m[j][i]\n",
        "    return res"
      ],
      "metadata": {
        "id": "5PvUno5CtXaj"
      },
      "execution_count": 3,
      "outputs": []
    },
    {
      "cell_type": "code",
      "source": [
        "xtrans=np.array([x1,x2])\n",
        "x=transpose(xtrans)"
      ],
      "metadata": {
        "id": "fL5i2ivRtYWB"
      },
      "execution_count": 4,
      "outputs": []
    },
    {
      "cell_type": "code",
      "source": [
        "def display(m):\n",
        "    for i in range(len(m)):\n",
        "        for j in range(len(m[0])):\n",
        "            print(m[i][j],end=\" \")\n",
        "        print()"
      ],
      "metadata": {
        "id": "7MEyAENSta8I"
      },
      "execution_count": 5,
      "outputs": []
    },
    {
      "cell_type": "code",
      "source": [
        "display(x)"
      ],
      "metadata": {
        "colab": {
          "base_uri": "https://localhost:8080/"
        },
        "id": "Yn5oBXMJtcfQ",
        "outputId": "7899b25d-9b23-4a72-c946-fa3707f4a642"
      },
      "execution_count": 6,
      "outputs": [
        {
          "output_type": "stream",
          "name": "stdout",
          "text": [
            "2.95 6.63 \n",
            "2.53 7.79 \n",
            "3.57 5.65 \n",
            "3.16 5.47 \n",
            "2.58 4.46 \n",
            "2.16 6.22 \n",
            "3.27 3.52 \n"
          ]
        }
      ]
    },
    {
      "cell_type": "code",
      "source": [
        "def mean(x):\n",
        "    s=0\n",
        "    for i in x:\n",
        "        s=s+i\n",
        "    l=s/len(x)\n",
        "    return l\n",
        "u1=mean(x1)\n",
        "u2=mean(x2)\n",
        "u=np.array([u1,u2])\n",
        "print(u)"
      ],
      "metadata": {
        "colab": {
          "base_uri": "https://localhost:8080/"
        },
        "id": "fcnlb6xOujJz",
        "outputId": "afa55070-6492-49da-89bb-b41db7ecbde3"
      },
      "execution_count": 7,
      "outputs": [
        {
          "output_type": "stream",
          "name": "stdout",
          "text": [
            "[2.88857143 5.67714286]\n"
          ]
        }
      ]
    },
    {
      "cell_type": "code",
      "source": [
        "p1=[]\n",
        "p2=[]\n",
        "n1=[]\n",
        "n2=[]\n",
        "for i in range(len(y)):\n",
        "    if(y[i]=='passed'):\n",
        "        p1.append(x1[i])\n",
        "        p2.append(x2[i])\n",
        "    if(y[i]=='notpassed'):\n",
        "        n1.append(x1[i])\n",
        "        n2.append(x2[i])\n",
        "ptrans=np.array([p1,p2])\n",
        "p=transpose(ptrans)\n",
        "ntrans=np.array([n1,n2])\n",
        "n=transpose(ntrans)\n",
        "u_p1=mean(p1)\n",
        "u_p2=mean(p2)\n",
        "u_n1=mean(n1)\n",
        "u_n2=mean(n2)\n",
        "u_pass=np.array([u_p1,u_p2])\n",
        "u_pass1=np.array([u_pass])\n",
        "u_pass_trans=transpose(u_pass1)\n",
        "u_no=np.array([u_n1,u_n2])\n",
        "u_no1=np.array([u_no])\n",
        "u_no_trans=transpose(u_no1)"
      ],
      "metadata": {
        "id": "JqYFm0OluoKk"
      },
      "execution_count": 8,
      "outputs": []
    },
    {
      "cell_type": "code",
      "source": [
        "def mul(m,n):\n",
        "    c=[[0 for i in range(len(n[0]))]for j in range(len(m))]\n",
        "    for i in range(len(m)):\n",
        "        for j in range(len(n[0])):\n",
        "            for k in range(len(n)):\n",
        "                c[i][j]=c[i][j]+(m[i][k]*n[k][j])\n",
        "    return c\n",
        "def inverse(m):\n",
        "    s=np.linalg.inv(m) \n",
        "    return s"
      ],
      "metadata": {
        "id": "Y2NO7Uj2utvK"
      },
      "execution_count": 9,
      "outputs": []
    },
    {
      "cell_type": "code",
      "source": [
        "a=[]\n",
        "for i in x:\n",
        "    l=[(i[0]-u[0]),(i[1]-u[1])]\n",
        "    a.append(l)\n",
        "atrans=transpose(a)\n",
        "c=mul(atrans,a)\n",
        "for i in range(len(c)):\n",
        "    for j in range(len(c[0])):\n",
        "        c[i][j]=c[i][j]/len(x)\n",
        "c_inv=inverse(c)\n",
        "display(c_inv)"
      ],
      "metadata": {
        "colab": {
          "base_uri": "https://localhost:8080/"
        },
        "id": "yZL_-XIWuwio",
        "outputId": "11e72a40-8cfe-4c64-cd4e-c6cf706adec3"
      },
      "execution_count": 10,
      "outputs": [
        {
          "output_type": "stream",
          "name": "stdout",
          "text": [
            "5.731714487577605 0.7822176856949434 \n",
            "0.7822176856949431 0.6977102207778748 \n"
          ]
        }
      ]
    },
    {
      "cell_type": "code",
      "source": [
        "xk=list(map(float,input().split()))\n",
        "xk=np.array([xk])\n",
        "xk_trans=transpose(xk)"
      ],
      "metadata": {
        "colab": {
          "base_uri": "https://localhost:8080/"
        },
        "id": "Y4THEDbPuy13",
        "outputId": "132f7913-4a6b-4ef5-ba06-2cd14d689693"
      },
      "execution_count": 11,
      "outputs": [
        {
          "name": "stdout",
          "output_type": "stream",
          "text": [
            "2.81 5.46\n"
          ]
        }
      ]
    },
    {
      "cell_type": "code",
      "source": [
        "import math\n",
        "def fisher(u,ut,c,xk,x,x1):\n",
        "    p=mul(u,c)\n",
        "    q=mul(p,xk)\n",
        "    r=mul(u,c)\n",
        "    s=mul(r,ut)\n",
        "    for i in range(len(s)):\n",
        "        for j in range(len(s[0])):\n",
        "            s[i][j]=s[i][j]*0.5\n",
        "            q[i][j]=q[i][j]-s[i][j]\n",
        "    f=q[0][0]+math.log(len(x1)/len(x))\n",
        "    return f"
      ],
      "metadata": {
        "id": "RK70hzFsu3l8"
      },
      "execution_count": 12,
      "outputs": []
    },
    {
      "cell_type": "code",
      "source": [
        "f1=fisher(u_pass1,u_pass_trans,c_inv,xk_trans,x,p)\n",
        "f2=fisher(u_no1,u_no_trans,c_inv,xk_trans,x,n)"
      ],
      "metadata": {
        "id": "xdd_OybFu6ap"
      },
      "execution_count": 13,
      "outputs": []
    },
    {
      "cell_type": "code",
      "source": [
        "print(f1,f2)"
      ],
      "metadata": {
        "colab": {
          "base_uri": "https://localhost:8080/"
        },
        "id": "9C8BRr9vu7xl",
        "outputId": "83fb95c2-23b6-4748-ffd9-1a64ae91aa07"
      },
      "execution_count": 14,
      "outputs": [
        {
          "output_type": "stream",
          "name": "stdout",
          "text": [
            "43.82818099216788 43.86302017821443\n"
          ]
        }
      ]
    },
    {
      "cell_type": "code",
      "source": [
        "if(f1>f2):\n",
        "    print(\"new observation is passed into a passed group\")\n",
        "if(f2>f1):\n",
        "    print(\"new observation is passed into a not passed group\")"
      ],
      "metadata": {
        "id": "ZyOZGwlgvAB4",
        "outputId": "2bfaaefd-329d-4054-d0dc-209970ad6b45",
        "colab": {
          "base_uri": "https://localhost:8080/"
        }
      },
      "execution_count": 15,
      "outputs": [
        {
          "output_type": "stream",
          "name": "stdout",
          "text": [
            "new observation is passed into a not passed group\n"
          ]
        }
      ]
    }
  ]
}