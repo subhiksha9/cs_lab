{
  "nbformat": 4,
  "nbformat_minor": 0,
  "metadata": {
    "colab": {
      "provenance": [],
      "authorship_tag": "ABX9TyOBvqTzj21erCFRfe4GJLRj",
      "include_colab_link": true
    },
    "kernelspec": {
      "name": "python3",
      "display_name": "Python 3"
    },
    "language_info": {
      "name": "python"
    }
  },
  "cells": [
    {
      "cell_type": "markdown",
      "metadata": {
        "id": "view-in-github",
        "colab_type": "text"
      },
      "source": [
        "<a href=\"https://colab.research.google.com/github/subhiksha9/cs_lab/blob/main/PCA.ipynb\" target=\"_parent\"><img src=\"https://colab.research.google.com/assets/colab-badge.svg\" alt=\"Open In Colab\"/></a>"
      ]
    },
    {
      "cell_type": "code",
      "source": [
        "threshold=95\n",
        "x1=[90,90,60,60,30]\n",
        "x2=[60,90,60,60,30]\n",
        "x3=[90,30,60,90,30]\n",
        "x=[]\n",
        "cp=[]"
      ],
      "metadata": {
        "id": "IR5LAHndfPQG"
      },
      "execution_count": 13,
      "outputs": []
    },
    {
      "cell_type": "code",
      "source": [
        "#to store cumulative proportion values\n",
        "for i in range(len(x1)):\n",
        "    x.append([x1[i],x2[i],x3[i]])\n",
        "mu=[0 for i in range(len(x))]"
      ],
      "metadata": {
        "id": "ObeCne11fUdH"
      },
      "execution_count": 14,
      "outputs": []
    },
    {
      "cell_type": "code",
      "source": [
        "#calculation of mu i.e mean\n",
        "for i in range(len(x1)):\n",
        "    mu[0]+=x[i][0]\n",
        "    mu[1]+=x[i][1]\n",
        "    mu[2]+=x[i][2]\n",
        "mu[0]=mu[0]/len(x)\n",
        "mu[1]=mu[1]/len(x)\n",
        "mu[2]=mu[2]/len(x)\n",
        "import numpy as np"
      ],
      "metadata": {
        "id": "y90q-9ZlfY_6"
      },
      "execution_count": 15,
      "outputs": []
    },
    {
      "cell_type": "code",
      "source": [
        "#calculation of x-mu\n",
        "for i in range(len(x)):\n",
        "    x[i][0]=x[i][0]-mu[0]\n",
        "    x[i][1]=x[i][1]-mu[1]\n",
        "    x[i][2]=x[i][2]-mu[2]"
      ],
      "metadata": {
        "id": "AB4Ocu4efdBt"
      },
      "execution_count": 16,
      "outputs": []
    },
    {
      "cell_type": "code",
      "source": [
        "#calculation of variance covariance matrix\n",
        "def mul(x,y):\n",
        "    res =  [[0 for i in range(len(y[0]))] for j in range(len(x))]\n",
        "    for i in range(len(x)):\n",
        "        for j in range(len(y[0])):\n",
        "            for k in range(len(y)):\n",
        "                res[i][j]+=x[i][k]*y[k][j]\n",
        "    return res\n",
        "def transpose(x):\n",
        "    xt=[[0 for i in range(len(x))] for j in range(len(x[0]))]\n",
        "    for i in range(len(x)):\n",
        "        for j in range(len(x[0])):\n",
        "             xt[j][i]=x[i][j]\n",
        "    return xt\n",
        "def trace(x):\n",
        "    s=0\n",
        "    for i in range(len(x)):\n",
        "        for j in range(len(x[0])):\n",
        "            if i==j:\n",
        "                s+=x[i][j]\n",
        "    return s\n",
        "def cofactor(m):\n",
        "    cf=[[0 for i in range(len(m))] for j in range(len(m[0]))]\n",
        "    for i in range(len(m)):\n",
        "        for j in range(len(m[0])):\n",
        "            cf[i][j]=((-1)**(i+j))*det(minor(m,i,j))\n",
        "    return cf\n",
        "def inv(m):\n",
        "    inv=[[0 for i in range(len(m))] for j in range(len(m[0]))]\n",
        "    cf=transpose(cofactor(m))\n",
        "    for i in range(len(m)):\n",
        "        for j in range(len(m[0])):\n",
        "            inv[i][j]=cf[i][j]/det(m)\n",
        "    return inv\n",
        "def minor(m,i,j):\n",
        "    return [row[:j] + row[j+1:] for row in (m[:i]+m[i+1:])]\n",
        "def det(m):\n",
        "    if len(m)==2:\n",
        "        return (m[0][0]*m[1][1]-m[0][1]*m[1][0])\n",
        "    else:\n",
        "        d=0\n",
        "        for c in range(len(m)):\n",
        "            d+=((-1)**c)*m[0][c]*det(minor(m,0,c))\n",
        "    return d\n",
        "c=mul(transpose(x),x)\n",
        "for i in range(len(c)):\n",
        "    for j in range(len(c[0])):\n",
        "        c[i][j]=c[i][j]/len(x)"
      ],
      "metadata": {
        "id": "n4xuI4vBfeLJ"
      },
      "execution_count": 17,
      "outputs": []
    },
    {
      "cell_type": "code",
      "source": [
        "#calculation of eigen values lambda values are e1,e2\n",
        "if(len(c)==2):\n",
        "    a=1\n",
        "    b=-c[0][0]-c[1][1]\n",
        "    d=(c[0][0]*c[1][1])-(c[0][1]*c[1][0])\n",
        "    e1=(-b+(b**2-(4*a*d)))/(2*a)\n",
        "    e2=(-b-(b**2-(4*a*d)))/(2*a)\n",
        "    e=[e1,e2]\n",
        "else:\n",
        "    import numpy as np\n",
        "    from numpy import linalg\n",
        "    e,v=linalg.eig(c)\n",
        "    e=np.array(e)\n",
        "    v=np.array(v)\n",
        "    idx=e.argsort()[::-1]\n",
        "    e=e[idx]\n",
        "    v=v[:,idx]\n",
        "print(\"eigen vector of \",i,\":\",v)\n",
        "for i in range(len(e)):\n",
        "    cp.append((e[i]/sum(e))*100)\n",
        "    if (e[i]/sum(e))*100 > threshold:\n",
        "        break\n",
        "red=len(cp)-1\n",
        "\n",
        "print('reduced components:',v[:red])"
      ],
      "metadata": {
        "colab": {
          "base_uri": "https://localhost:8080/"
        },
        "id": "hW80vrwKflCm",
        "outputId": "44aeb7dd-0012-4656-97a4-c9a6656417b8"
      },
      "execution_count": 18,
      "outputs": [
        {
          "output_type": "stream",
          "name": "stdout",
          "text": [
            "eigen vector of  2 : [[-0.65580225 -0.3859988   0.6487899 ]\n",
            " [-0.4291978  -0.51636642 -0.74104991]\n",
            " [-0.62105769  0.7644414  -0.17296443]]\n",
            "reduced components: [[-0.65580225 -0.3859988   0.6487899 ]\n",
            " [-0.4291978  -0.51636642 -0.74104991]]\n"
          ]
        }
      ]
    }
  ]
}